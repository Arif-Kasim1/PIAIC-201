{
  "nbformat": 4,
  "nbformat_minor": 0,
  "metadata": {
    "colab": {
      "provenance": [],
      "authorship_tag": "ABX9TyP8V/y3zAKqL1Z8omzr6U59",
      "include_colab_link": true
    },
    "kernelspec": {
      "name": "python3",
      "display_name": "Python 3"
    },
    "language_info": {
      "name": "python"
    }
  },
  "cells": [
    {
      "cell_type": "markdown",
      "metadata": {
        "id": "view-in-github",
        "colab_type": "text"
      },
      "source": [
        "<a href=\"https://colab.research.google.com/github/Arif-Kasim1/PIAIC-201/blob/main/CrewAI_Learning_01.ipynb\" target=\"_parent\"><img src=\"https://colab.research.google.com/assets/colab-badge.svg\" alt=\"Open In Colab\"/></a>"
      ]
    },
    {
      "cell_type": "markdown",
      "source": [
        "Build Anything with CrewAI, Here’s How\n",
        "https://www.youtube.com/watch?v=mO4-V7Lmt7c&t=1458s"
      ],
      "metadata": {
        "id": "l9G6N7vL_Qhi"
      }
    },
    {
      "cell_type": "code",
      "execution_count": null,
      "metadata": {
        "id": "8dSXE7QCzO7l"
      },
      "outputs": [],
      "source": [
        "!pip install -q crewai 'crewai[tools]'"
      ]
    },
    {
      "cell_type": "code",
      "source": [
        "!pip install -q crewai 'crewai[tools]' langchain_google_genai langchain-anthropic firecrawl-py crewai 'crewai[tools]'"
      ],
      "metadata": {
        "colab": {
          "base_uri": "https://localhost:8080/"
        },
        "id": "xVPG8INh0D--",
        "outputId": "5f060339-c7f4-445a-d7dd-2769982017e1"
      },
      "execution_count": 1,
      "outputs": [
        {
          "output_type": "stream",
          "name": "stdout",
          "text": [
            "\u001b[2K     \u001b[90m━━━━━━━━━━━━━━━━━━━━━━━━━━━━━━━━━━━━━━━━\u001b[0m \u001b[32m42.0/42.0 kB\u001b[0m \u001b[31m2.8 MB/s\u001b[0m eta \u001b[36m0:00:00\u001b[0m\n",
            "\u001b[2K     \u001b[90m━━━━━━━━━━━━━━━━━━━━━━━━━━━━━━━━━━━━━━━━\u001b[0m \u001b[32m67.3/67.3 kB\u001b[0m \u001b[31m5.5 MB/s\u001b[0m eta \u001b[36m0:00:00\u001b[0m\n",
            "\u001b[?25h  Installing build dependencies ... \u001b[?25l\u001b[?25hdone\n",
            "  Getting requirements to build wheel ... \u001b[?25l\u001b[?25hdone\n",
            "  Preparing metadata (pyproject.toml) ... \u001b[?25l\u001b[?25hdone\n",
            "  Preparing metadata (setup.py) ... \u001b[?25l\u001b[?25hdone\n",
            "\u001b[2K     \u001b[90m━━━━━━━━━━━━━━━━━━━━━━━━━━━━━━━━━━━━━━━━\u001b[0m \u001b[32m48.2/48.2 kB\u001b[0m \u001b[31m3.1 MB/s\u001b[0m eta \u001b[36m0:00:00\u001b[0m\n",
            "\u001b[2K   \u001b[90m━━━━━━━━━━━━━━━━━━━━━━━━━━━━━━━━━━━━━━━━\u001b[0m \u001b[32m192.0/192.0 kB\u001b[0m \u001b[31m10.2 MB/s\u001b[0m eta \u001b[36m0:00:00\u001b[0m\n",
            "\u001b[2K   \u001b[90m━━━━━━━━━━━━━━━━━━━━━━━━━━━━━━━━━━━━━━━━\u001b[0m \u001b[32m41.3/41.3 kB\u001b[0m \u001b[31m3.3 MB/s\u001b[0m eta \u001b[36m0:00:00\u001b[0m\n",
            "\u001b[2K   \u001b[90m━━━━━━━━━━━━━━━━━━━━━━━━━━━━━━━━━━━━━━━━\u001b[0m \u001b[32m203.4/203.4 kB\u001b[0m \u001b[31m15.3 MB/s\u001b[0m eta \u001b[36m0:00:00\u001b[0m\n",
            "\u001b[2K   \u001b[90m━━━━━━━━━━━━━━━━━━━━━━━━━━━━━━━━━━━━━━━━\u001b[0m \u001b[32m131.8/131.8 kB\u001b[0m \u001b[31m10.4 MB/s\u001b[0m eta \u001b[36m0:00:00\u001b[0m\n",
            "\u001b[2K   \u001b[90m━━━━━━━━━━━━━━━━━━━━━━━━━━━━━━━━━━━━━━━━\u001b[0m \u001b[32m2.4/2.4 MB\u001b[0m \u001b[31m64.3 MB/s\u001b[0m eta \u001b[36m0:00:00\u001b[0m\n",
            "\u001b[2K   \u001b[90m━━━━━━━━━━━━━━━━━━━━━━━━━━━━━━━━━━━━━━━━\u001b[0m \u001b[32m468.0/468.0 kB\u001b[0m \u001b[31m28.5 MB/s\u001b[0m eta \u001b[36m0:00:00\u001b[0m\n",
            "\u001b[2K   \u001b[90m━━━━━━━━━━━━━━━━━━━━━━━━━━━━━━━━━━━━━━━━\u001b[0m \u001b[32m71.4/71.4 kB\u001b[0m \u001b[31m5.7 MB/s\u001b[0m eta \u001b[36m0:00:00\u001b[0m\n",
            "\u001b[2K   \u001b[90m━━━━━━━━━━━━━━━━━━━━━━━━━━━━━━━━━━━━━━━━\u001b[0m \u001b[32m411.6/411.6 kB\u001b[0m \u001b[31m25.2 MB/s\u001b[0m eta \u001b[36m0:00:00\u001b[0m\n",
            "\u001b[2K   \u001b[90m━━━━━━━━━━━━━━━━━━━━━━━━━━━━━━━━━━━━━━━━\u001b[0m \u001b[32m6.6/6.6 MB\u001b[0m \u001b[31m87.4 MB/s\u001b[0m eta \u001b[36m0:00:00\u001b[0m\n",
            "\u001b[2K   \u001b[90m━━━━━━━━━━━━━━━━━━━━━━━━━━━━━━━━━━━━━━━━\u001b[0m \u001b[32m55.8/55.8 kB\u001b[0m \u001b[31m4.0 MB/s\u001b[0m eta \u001b[36m0:00:00\u001b[0m\n",
            "\u001b[2K   \u001b[90m━━━━━━━━━━━━━━━━━━━━━━━━━━━━━━━━━━━━━━━━\u001b[0m \u001b[32m59.2/59.2 kB\u001b[0m \u001b[31m4.6 MB/s\u001b[0m eta \u001b[36m0:00:00\u001b[0m\n",
            "\u001b[2K   \u001b[90m━━━━━━━━━━━━━━━━━━━━━━━━━━━━━━━━━━━━━━━━\u001b[0m \u001b[32m5.6/5.6 MB\u001b[0m \u001b[31m90.7 MB/s\u001b[0m eta \u001b[36m0:00:00\u001b[0m\n",
            "\u001b[2K   \u001b[90m━━━━━━━━━━━━━━━━━━━━━━━━━━━━━━━━━━━━━━━━\u001b[0m \u001b[32m756.0/756.0 kB\u001b[0m \u001b[31m31.1 MB/s\u001b[0m eta \u001b[36m0:00:00\u001b[0m\n",
            "\u001b[2K   \u001b[90m━━━━━━━━━━━━━━━━━━━━━━━━━━━━━━━━━━━━━━━━\u001b[0m \u001b[32m15.0/15.0 MB\u001b[0m \u001b[31m54.0 MB/s\u001b[0m eta \u001b[36m0:00:00\u001b[0m\n",
            "\u001b[2K   \u001b[90m━━━━━━━━━━━━━━━━━━━━━━━━━━━━━━━━━━━━━━━━\u001b[0m \u001b[32m278.6/278.6 kB\u001b[0m \u001b[31m18.1 MB/s\u001b[0m eta \u001b[36m0:00:00\u001b[0m\n",
            "\u001b[2K   \u001b[90m━━━━━━━━━━━━━━━━━━━━━━━━━━━━━━━━━━━━━━━━\u001b[0m \u001b[32m147.8/147.8 kB\u001b[0m \u001b[31m8.2 MB/s\u001b[0m eta \u001b[36m0:00:00\u001b[0m\n",
            "\u001b[2K   \u001b[90m━━━━━━━━━━━━━━━━━━━━━━━━━━━━━━━━━━━━━━━━\u001b[0m \u001b[32m211.4/211.4 kB\u001b[0m \u001b[31m12.0 MB/s\u001b[0m eta \u001b[36m0:00:00\u001b[0m\n",
            "\u001b[2K   \u001b[90m━━━━━━━━━━━━━━━━━━━━━━━━━━━━━━━━━━━━━━━━\u001b[0m \u001b[32m628.3/628.3 kB\u001b[0m \u001b[31m34.0 MB/s\u001b[0m eta \u001b[36m0:00:00\u001b[0m\n",
            "\u001b[2K   \u001b[90m━━━━━━━━━━━━━━━━━━━━━━━━━━━━━━━━━━━━━━━━\u001b[0m \u001b[32m94.8/94.8 kB\u001b[0m \u001b[31m6.1 MB/s\u001b[0m eta \u001b[36m0:00:00\u001b[0m\n",
            "\u001b[2K   \u001b[90m━━━━━━━━━━━━━━━━━━━━━━━━━━━━━━━━━━━━━━━━\u001b[0m \u001b[32m76.4/76.4 kB\u001b[0m \u001b[31m5.1 MB/s\u001b[0m eta \u001b[36m0:00:00\u001b[0m\n",
            "\u001b[2K   \u001b[90m━━━━━━━━━━━━━━━━━━━━━━━━━━━━━━━━━━━━━━━━\u001b[0m \u001b[32m1.9/1.9 MB\u001b[0m \u001b[31m48.1 MB/s\u001b[0m eta \u001b[36m0:00:00\u001b[0m\n",
            "\u001b[2K   \u001b[90m━━━━━━━━━━━━━━━━━━━━━━━━━━━━━━━━━━━━━━━━\u001b[0m \u001b[32m29.9/29.9 MB\u001b[0m \u001b[31m22.6 MB/s\u001b[0m eta \u001b[36m0:00:00\u001b[0m\n",
            "\u001b[2K   \u001b[90m━━━━━━━━━━━━━━━━━━━━━━━━━━━━━━━━━━━━━━━━\u001b[0m \u001b[32m33.5/33.5 MB\u001b[0m \u001b[31m15.9 MB/s\u001b[0m eta \u001b[36m0:00:00\u001b[0m\n",
            "\u001b[2K   \u001b[90m━━━━━━━━━━━━━━━━━━━━━━━━━━━━━━━━━━━━━━━━\u001b[0m \u001b[32m311.8/311.8 kB\u001b[0m \u001b[31m18.3 MB/s\u001b[0m eta \u001b[36m0:00:00\u001b[0m\n",
            "\u001b[2K   \u001b[90m━━━━━━━━━━━━━━━━━━━━━━━━━━━━━━━━━━━━━━━━\u001b[0m \u001b[32m93.2/93.2 kB\u001b[0m \u001b[31m6.1 MB/s\u001b[0m eta \u001b[36m0:00:00\u001b[0m\n",
            "\u001b[2K   \u001b[90m━━━━━━━━━━━━━━━━━━━━━━━━━━━━━━━━━━━━━━━━\u001b[0m \u001b[32m13.3/13.3 MB\u001b[0m \u001b[31m60.9 MB/s\u001b[0m eta \u001b[36m0:00:00\u001b[0m\n",
            "\u001b[2K   \u001b[90m━━━━━━━━━━━━━━━━━━━━━━━━━━━━━━━━━━━━━━━━\u001b[0m \u001b[32m54.8/54.8 kB\u001b[0m \u001b[31m3.3 MB/s\u001b[0m eta \u001b[36m0:00:00\u001b[0m\n",
            "\u001b[2K   \u001b[90m━━━━━━━━━━━━━━━━━━━━━━━━━━━━━━━━━━━━━━━━\u001b[0m \u001b[32m319.7/319.7 kB\u001b[0m \u001b[31m19.5 MB/s\u001b[0m eta \u001b[36m0:00:00\u001b[0m\n",
            "\u001b[2K   \u001b[90m━━━━━━━━━━━━━━━━━━━━━━━━━━━━━━━━━━━━━━━━\u001b[0m \u001b[32m2.9/2.9 MB\u001b[0m \u001b[31m53.3 MB/s\u001b[0m eta \u001b[36m0:00:00\u001b[0m\n",
            "\u001b[2K   \u001b[90m━━━━━━━━━━━━━━━━━━━━━━━━━━━━━━━━━━━━━━━━\u001b[0m \u001b[32m57.6/57.6 kB\u001b[0m \u001b[31m4.4 MB/s\u001b[0m eta \u001b[36m0:00:00\u001b[0m\n",
            "\u001b[2K   \u001b[90m━━━━━━━━━━━━━━━━━━━━━━━━━━━━━━━━━━━━━━━━\u001b[0m \u001b[32m9.7/9.7 MB\u001b[0m \u001b[31m88.9 MB/s\u001b[0m eta \u001b[36m0:00:00\u001b[0m\n",
            "\u001b[2K   \u001b[90m━━━━━━━━━━━━━━━━━━━━━━━━━━━━━━━━━━━━━━━━\u001b[0m \u001b[32m1.1/1.1 MB\u001b[0m \u001b[31m39.2 MB/s\u001b[0m eta \u001b[36m0:00:00\u001b[0m\n",
            "\u001b[2K   \u001b[90m━━━━━━━━━━━━━━━━━━━━━━━━━━━━━━━━━━━━━━━━\u001b[0m \u001b[32m3.0/3.0 MB\u001b[0m \u001b[31m73.8 MB/s\u001b[0m eta \u001b[36m0:00:00\u001b[0m\n",
            "\u001b[2K   \u001b[90m━━━━━━━━━━━━━━━━━━━━━━━━━━━━━━━━━━━━━━━━\u001b[0m \u001b[32m62.3/62.3 kB\u001b[0m \u001b[31m4.3 MB/s\u001b[0m eta \u001b[36m0:00:00\u001b[0m\n",
            "\u001b[2K   \u001b[90m━━━━━━━━━━━━━━━━━━━━━━━━━━━━━━━━━━━━━━━━\u001b[0m \u001b[32m233.5/233.5 kB\u001b[0m \u001b[31m15.4 MB/s\u001b[0m eta \u001b[36m0:00:00\u001b[0m\n",
            "\u001b[2K   \u001b[90m━━━━━━━━━━━━━━━━━━━━━━━━━━━━━━━━━━━━━━━━\u001b[0m \u001b[32m250.0/250.0 kB\u001b[0m \u001b[31m17.0 MB/s\u001b[0m eta \u001b[36m0:00:00\u001b[0m\n",
            "\u001b[2K   \u001b[90m━━━━━━━━━━━━━━━━━━━━━━━━━━━━━━━━━━━━━━━━\u001b[0m \u001b[32m131.6/131.6 kB\u001b[0m \u001b[31m9.1 MB/s\u001b[0m eta \u001b[36m0:00:00\u001b[0m\n",
            "\u001b[2K   \u001b[90m━━━━━━━━━━━━━━━━━━━━━━━━━━━━━━━━━━━━━━━━\u001b[0m \u001b[32m442.1/442.1 kB\u001b[0m \u001b[31m25.8 MB/s\u001b[0m eta \u001b[36m0:00:00\u001b[0m\n",
            "\u001b[2K   \u001b[90m━━━━━━━━━━━━━━━━━━━━━━━━━━━━━━━━━━━━━━━━\u001b[0m \u001b[32m1.6/1.6 MB\u001b[0m \u001b[31m55.3 MB/s\u001b[0m eta \u001b[36m0:00:00\u001b[0m\n",
            "\u001b[2K   \u001b[90m━━━━━━━━━━━━━━━━━━━━━━━━━━━━━━━━━━━━━━━━\u001b[0m \u001b[32m44.3/44.3 kB\u001b[0m \u001b[31m2.8 MB/s\u001b[0m eta \u001b[36m0:00:00\u001b[0m\n",
            "\u001b[2K   \u001b[90m━━━━━━━━━━━━━━━━━━━━━━━━━━━━━━━━━━━━━━━━\u001b[0m \u001b[32m2.5/2.5 MB\u001b[0m \u001b[31m67.9 MB/s\u001b[0m eta \u001b[36m0:00:00\u001b[0m\n",
            "\u001b[2K   \u001b[90m━━━━━━━━━━━━━━━━━━━━━━━━━━━━━━━━━━━━━━━━\u001b[0m \u001b[32m1.0/1.0 MB\u001b[0m \u001b[31m42.5 MB/s\u001b[0m eta \u001b[36m0:00:00\u001b[0m\n",
            "\u001b[2K   \u001b[90m━━━━━━━━━━━━━━━━━━━━━━━━━━━━━━━━━━━━━━━━\u001b[0m \u001b[32m50.9/50.9 kB\u001b[0m \u001b[31m3.7 MB/s\u001b[0m eta \u001b[36m0:00:00\u001b[0m\n",
            "\u001b[2K   \u001b[90m━━━━━━━━━━━━━━━━━━━━━━━━━━━━━━━━━━━━━━━━\u001b[0m \u001b[32m454.3/454.3 kB\u001b[0m \u001b[31m30.8 MB/s\u001b[0m eta \u001b[36m0:00:00\u001b[0m\n",
            "\u001b[2K   \u001b[90m━━━━━━━━━━━━━━━━━━━━━━━━━━━━━━━━━━━━━━━━\u001b[0m \u001b[32m83.3/83.3 kB\u001b[0m \u001b[31m5.4 MB/s\u001b[0m eta \u001b[36m0:00:00\u001b[0m\n",
            "\u001b[2K   \u001b[90m━━━━━━━━━━━━━━━━━━━━━━━━━━━━━━━━━━━━━━━━\u001b[0m \u001b[32m298.0/298.0 kB\u001b[0m \u001b[31m22.0 MB/s\u001b[0m eta \u001b[36m0:00:00\u001b[0m\n",
            "\u001b[2K   \u001b[90m━━━━━━━━━━━━━━━━━━━━━━━━━━━━━━━━━━━━━━━━\u001b[0m \u001b[32m71.1/71.1 kB\u001b[0m \u001b[31m4.7 MB/s\u001b[0m eta \u001b[36m0:00:00\u001b[0m\n",
            "\u001b[2K   \u001b[90m━━━━━━━━━━━━━━━━━━━━━━━━━━━━━━━━━━━━━━━━\u001b[0m \u001b[32m73.2/73.2 kB\u001b[0m \u001b[31m5.1 MB/s\u001b[0m eta \u001b[36m0:00:00\u001b[0m\n",
            "\u001b[2K   \u001b[90m━━━━━━━━━━━━━━━━━━━━━━━━━━━━━━━━━━━━━━━━\u001b[0m \u001b[32m486.3/486.3 kB\u001b[0m \u001b[31m30.9 MB/s\u001b[0m eta \u001b[36m0:00:00\u001b[0m\n",
            "\u001b[2K   \u001b[90m━━━━━━━━━━━━━━━━━━━━━━━━━━━━━━━━━━━━━━━━\u001b[0m \u001b[32m3.8/3.8 MB\u001b[0m \u001b[31m77.0 MB/s\u001b[0m eta \u001b[36m0:00:00\u001b[0m\n",
            "\u001b[2K   \u001b[90m━━━━━━━━━━━━━━━━━━━━━━━━━━━━━━━━━━━━━━━━\u001b[0m \u001b[32m443.8/443.8 kB\u001b[0m \u001b[31m28.6 MB/s\u001b[0m eta \u001b[36m0:00:00\u001b[0m\n",
            "\u001b[2K   \u001b[90m━━━━━━━━━━━━━━━━━━━━━━━━━━━━━━━━━━━━━━━━\u001b[0m \u001b[32m46.0/46.0 kB\u001b[0m \u001b[31m3.0 MB/s\u001b[0m eta \u001b[36m0:00:00\u001b[0m\n",
            "\u001b[2K   \u001b[90m━━━━━━━━━━━━━━━━━━━━━━━━━━━━━━━━━━━━━━━━\u001b[0m \u001b[32m3.1/3.1 MB\u001b[0m \u001b[31m59.8 MB/s\u001b[0m eta \u001b[36m0:00:00\u001b[0m\n",
            "\u001b[2K   \u001b[90m━━━━━━━━━━━━━━━━━━━━━━━━━━━━━━━━━━━━━━━━\u001b[0m \u001b[32m86.8/86.8 kB\u001b[0m \u001b[31m6.0 MB/s\u001b[0m eta \u001b[36m0:00:00\u001b[0m\n",
            "\u001b[2K   \u001b[90m━━━━━━━━━━━━━━━━━━━━━━━━━━━━━━━━━━━━━━━━\u001b[0m \u001b[32m209.2/209.2 kB\u001b[0m \u001b[31m14.5 MB/s\u001b[0m eta \u001b[36m0:00:00\u001b[0m\n",
            "\u001b[2K   \u001b[90m━━━━━━━━━━━━━━━━━━━━━━━━━━━━━━━━━━━━━━━━\u001b[0m \u001b[32m267.2/267.2 kB\u001b[0m \u001b[31m18.2 MB/s\u001b[0m eta \u001b[36m0:00:00\u001b[0m\n",
            "\u001b[2K   \u001b[90m━━━━━━━━━━━━━━━━━━━━━━━━━━━━━━━━━━━━━━━━\u001b[0m \u001b[32m78.6/78.6 kB\u001b[0m \u001b[31m5.8 MB/s\u001b[0m eta \u001b[36m0:00:00\u001b[0m\n",
            "\u001b[2K   \u001b[90m━━━━━━━━━━━━━━━━━━━━━━━━━━━━━━━━━━━━━━━━\u001b[0m \u001b[32m2.4/2.4 MB\u001b[0m \u001b[31m68.1 MB/s\u001b[0m eta \u001b[36m0:00:00\u001b[0m\n",
            "\u001b[2K   \u001b[90m━━━━━━━━━━━━━━━━━━━━━━━━━━━━━━━━━━━━━━━━\u001b[0m \u001b[32m49.3/49.3 kB\u001b[0m \u001b[31m3.9 MB/s\u001b[0m eta \u001b[36m0:00:00\u001b[0m\n",
            "\u001b[2K   \u001b[90m━━━━━━━━━━━━━━━━━━━━━━━━━━━━━━━━━━━━━━━━\u001b[0m \u001b[32m57.5/57.5 kB\u001b[0m \u001b[31m4.5 MB/s\u001b[0m eta \u001b[36m0:00:00\u001b[0m\n",
            "\u001b[?25h  Building wheel for docx2txt (setup.py) ... \u001b[?25l\u001b[?25hdone\n",
            "  Building wheel for pypika (pyproject.toml) ... \u001b[?25l\u001b[?25hdone\n",
            "\u001b[31mERROR: pip's dependency resolver does not currently take into account all the packages that are installed. This behaviour is the source of the following dependency conflicts.\n",
            "tensorflow 2.17.1 requires protobuf!=4.21.0,!=4.21.1,!=4.21.2,!=4.21.3,!=4.21.4,!=4.21.5,<5.0.0dev,>=3.20.3, but you have protobuf 5.29.2 which is incompatible.\n",
            "tensorflow-metadata 1.13.1 requires protobuf<5,>=3.20.3, but you have protobuf 5.29.2 which is incompatible.\n",
            "transformers 4.47.1 requires tokenizers<0.22,>=0.21, but you have tokenizers 0.20.3 which is incompatible.\u001b[0m\u001b[31m\n",
            "\u001b[0m"
          ]
        }
      ]
    },
    {
      "cell_type": "code",
      "source": [
        "import os\n",
        "from crewai import Agent, Task, Crew, LLM\n",
        "from langchain_google_genai import ChatGoogleGenerativeAI\n",
        "from langchain_anthropic import ChatAnthropic\n",
        "from google.colab import userdata\n",
        "\n",
        "os.environ[\"GOOGLE_API_KEY\"] = userdata.get(\"GOOGLE_API_KEY\")\n",
        "os.environ[\"ANTHROPIC_API_KEY\"] = userdata.get(\"ANTHROPIC_API_KEY\")\n",
        "\n",
        "# niche = input(\"Enter the business niche: \")\n",
        "# location = input(\"Enter the location: \")\n",
        "# num_leads = int(input(\"Enter the desired number of leads: \"))\n",
        "\n",
        "niche = \"Facebook ad agency\"\n",
        "location = \"New York\"\n",
        "num_leads = 5\n",
        "\n",
        "# consistant = ChatGoogleGenerativeAI(model=\"gemini-2.0-flash-exp\", temperature=0.1, api_key=os.environ[\"GOOGLE_API_KEY\"])\n",
        "# creative = ChatGoogleGenerativeAI(model=\"gemini-2.0-flash-exp\", temperature=0.7, api_key=os.environ[\"GOOGLE_API_KEY\"])\n",
        "\n",
        "# consistant = ChatAnthropic(temperature=0.1, model_name=\"anthropic/claude-3-haiku-20240307\", api_key=userdata.get(\"ANTHROPIC_API_KEY\"), provider=\"anthropic\")\n",
        "# creative = ChatAnthropic(temperature=0.7, model_name=\"anthropic/claude-3-haiku-20240307\", api_key=userdata.get(\"ANTHROPIC_API_KEY\"), provider=\"anthropic\")\n",
        "# consistant = LLM(model=\"anthropic/laude-3-haiku-20240307\", temperature=0.1, api_key=userdata.get(\"ANTHROPIC_API_KEY\"))\n",
        "# creative = LLM(model=\"anthropic/claude-3-haiku-20240307\", temperature=0.7, api_key=userdata.get(\"ANTHROPIC_API_KEY\"))\n",
        "consistant = LLM(model=\"gemini/gemini-2.0-flash-exp\", temperature=0.1, api_key=os.environ[\"GOOGLE_API_KEY\"])\n",
        "creative = LLM(model=\"gemini/gemini-2.0-flash-exp\", temperature=0.7, api_key=os.environ[\"GOOGLE_API_KEY\"])\n",
        "\n",
        "variation_agent = Agent(\n",
        "    role=\"Lead Generation Agent\",\n",
        "    goal=\"Generate leads for a business\",\n",
        "    backstory=\"\"\"You are an expert in crafting search queries that yield high quality\n",
        "              business leads. Your experties lies in understanding user intent and\n",
        "              translating it into 10 various search phrases that captures different\n",
        "              assepcts of the business niche and location.\n",
        "    \"\"\",\n",
        "    verbose=True,\n",
        "    allow_delegation=False,\n",
        "    llm=creative\n",
        ")\n",
        "\n",
        "generative_variation = Task(\n",
        "    description=f\"\"\"Generate 10 different concise search quries for {niche} in\n",
        "    {location}. Make sure that every query is short and direct, it should be\n",
        "    optimized for serpAPI. Each query should be unique and different from the rest.\n",
        "    Do not use quatation marks, donrt include any extra text, just output the 10\n",
        "    search query variations, nothing before it nothing after it. \"\"\",\n",
        "    expected_output=\"A list of 10 unique search query variations\",\n",
        "    agent=variation_agent\n",
        ")\n",
        "\n",
        "search_query_crew = Crew(\n",
        "    agents=[variation_agent],\n",
        "    tasks=[generative_variation],\n",
        "    verbose=True\n",
        ")\n"
      ],
      "metadata": {
        "colab": {
          "base_uri": "https://localhost:8080/"
        },
        "id": "0E03K2Uq0jJE",
        "outputId": "1ed21c04-0676-4a8f-b12e-91bee2f1360f"
      },
      "execution_count": 4,
      "outputs": [
        {
          "output_type": "stream",
          "name": "stderr",
          "text": [
            "/usr/local/lib/python3.10/dist-packages/pydantic/_internal/_config.py:345: UserWarning: Valid config keys have changed in V2:\n",
            "* 'fields' has been removed\n",
            "  warnings.warn(message, UserWarning)\n"
          ]
        }
      ]
    },
    {
      "cell_type": "code",
      "source": [
        "search_query_results = search_query_crew.kickoff()\n",
        "\n",
        "# print(\"Generated Search Queries: \\n\",search_query_results)\n",
        "\n",
        "search_queries = search_query_results.raw.split(\"\\n\")\n",
        "search_queries = [query.strip() for query in search_queries if query.strip()]\n",
        "search_queries = search_queries[:10]\n",
        "print(f\"\\nFinal list of {len(search_queries)} search queries: \\n\")\n",
        "for i, query in enumerate(search_queries, 1):\n",
        "    print(f\"{i+1}. {query}\")\n"
      ],
      "metadata": {
        "colab": {
          "base_uri": "https://localhost:8080/"
        },
        "id": "nlFM7mzp9GYm",
        "outputId": "b6783e7c-137f-470f-bb57-8d9c21a9930d"
      },
      "execution_count": 5,
      "outputs": [
        {
          "output_type": "stream",
          "name": "stdout",
          "text": [
            "\u001b[1m\u001b[95m# Agent:\u001b[00m \u001b[1m\u001b[92mLead Generation Agent\u001b[00m\n",
            "\u001b[95m## Task:\u001b[00m \u001b[92mGenerate 10 different concise search quries for Facebook ad agency in\n",
            "    New York. Make sure that every query is short and direct, it should be \n",
            "    optimized for serpAPI. Each query should be unique and different from the rest.\n",
            "    Do not use quatation marks, donrt include any extra text, just output the 10\n",
            "    search query variations, nothing before it nothing after it. \u001b[00m\n",
            "\n",
            "\n",
            "\u001b[1m\u001b[95m# Agent:\u001b[00m \u001b[1m\u001b[92mLead Generation Agent\u001b[00m\n",
            "\u001b[95m## Final Answer:\u001b[00m \u001b[92m\n",
            "facebook ads agency new york\n",
            "new york facebook marketing\n",
            "social media ads agency nyc\n",
            "facebook advertising company new york\n",
            "digital marketing agency facebook ads new york\n",
            "nyc facebook ad management\n",
            "paid social media agency new york\n",
            "facebook campaign agency new york\n",
            "best facebook ads agency nyc\n",
            "facebook advertising experts new york\u001b[00m\n",
            "\n",
            "\n",
            "Generated Search Queries: \n",
            " facebook ads agency new york\n",
            "new york facebook marketing\n",
            "social media ads agency nyc\n",
            "facebook advertising company new york\n",
            "digital marketing agency facebook ads new york\n",
            "nyc facebook ad management\n",
            "paid social media agency new york\n",
            "facebook campaign agency new york\n",
            "best facebook ads agency nyc\n",
            "facebook advertising experts new york\n"
          ]
        }
      ]
    },
    {
      "cell_type": "code",
      "source": [
        "from crewai_tools import SerperDevTool\n",
        "os.environ[\"SERPER_API_KEY\"] = userdata.get(\"SERPER_API_KEY\")\n",
        "search_tool = SerperDevTool()\n",
        "\n",
        "search_agent = Agent(\n",
        "    role=\"Web Search Specialist\",\n",
        "    goal=\"Use the 'search_tool' function you have assigned. Only use the tool.\",\n",
        "    backstory=\"\"\" Your only task is to execute the \"search_tool\" you have access to.\n",
        "    Do not perform any other actions, or any other text. Simply use the tool. \"\"\",\n",
        "    verose=True,\n",
        "    allow_delegation=False,\n",
        "    tools=[search_tool],\n",
        "    llm=consistant\n",
        ")\n",
        "\n",
        "search_task = Task(\n",
        "    description=f\"\"\"Use the provided \"search_tool\" to find {num_leads} unique {niche}\n",
        "    in {location}. use these exact search quries: {search_queries}. DO NOT INVENT\n",
        "    YOUR OWN SEARCH TERMS, ONLY USE THOSE QUERIES. ONLY OUT PUT THE WEBSITES OF THOSE BUSINESSES.\n",
        "    NO OTHER INFO, WEBSITES ONLY. Do not add formating. Simply output each website\n",
        "    on a new line. Thats it.\"\"\",\n",
        "    expected_output=f\"A clean list, with no formating, of {num_leads} websites in the {niche} niche.\",\n",
        "    agent=search_agent\n",
        ")\n",
        "\n",
        "search_crew = Crew(\n",
        "    agents=[search_agent],\n",
        "    tasks=[search_task],\n",
        "    verbose=False\n",
        ")\n",
        "\n",
        "search_results = search_crew.kickoff()\n",
        "\n",
        "print(\"\\n Search Results: \\n\")\n",
        "print(search_results.raw)\n",
        "\n",
        "websites = search_results.raw.split(\"\\n\")\n",
        "\n",
        "\n",
        "print(f\"\\nFinal list of {len(websites)} websites: \\n\")\n",
        "for i, website in enumerate(websites, 1):\n",
        "    print(f\"{i+1}. {website}\")"
      ],
      "metadata": {
        "colab": {
          "base_uri": "https://localhost:8080/"
        },
        "id": "t6XWD-qTR0E-",
        "outputId": "943f36ed-ae2f-461c-9ad1-8b7ebb35a507"
      },
      "execution_count": 16,
      "outputs": [
        {
          "output_type": "stream",
          "name": "stderr",
          "text": [
            "WARNING:opentelemetry.trace:Overriding of current TracerProvider is not allowed\n"
          ]
        },
        {
          "output_type": "stream",
          "name": "stdout",
          "text": [
            "\n",
            " Search Results: \n",
            "\n",
            "https://kingkong.co/facebook-advertising-agency/new-york/new-york-city/\n",
            "https://consultusdigital.com/facebook-advertising-agency-in-new-york/\n",
            "https://socialflyny.com/\n",
            "https://digitaldrewsem.com/facebook-ads-agency/\n",
            "https://www.digitalcrew.agency/english-digital-marketing/facebook-and-instagram-ad/\n",
            "\n",
            "Final list of 5 websites: \n",
            "\n",
            "2. https://kingkong.co/facebook-advertising-agency/new-york/new-york-city/\n",
            "3. https://consultusdigital.com/facebook-advertising-agency-in-new-york/\n",
            "4. https://socialflyny.com/\n",
            "5. https://digitaldrewsem.com/facebook-ads-agency/\n",
            "6. https://www.digitalcrew.agency/english-digital-marketing/facebook-and-instagram-ad/\n"
          ]
        }
      ]
    },
    {
      "cell_type": "code",
      "source": [
        "from firecrawl import FirecrawlApp\n",
        "os.environ[\"FIRECRAWL_API_KEY\"] = userdata.get(\"FIRECRAWL_API_KEY\")\n",
        "firecrawl = FirecrawlApp(api_key=os.environ[\"FIRECRAWL_API_KEY\"])\n",
        "\n",
        "current_link = websites[4]\n",
        "print(f\"Current Link: {current_link}\")\n",
        "\n",
        "scrape_result = firecrawl.scrape_url(current_link)\n",
        "print(scrape_result['markdown'][:500])"
      ],
      "metadata": {
        "colab": {
          "base_uri": "https://localhost:8080/"
        },
        "id": "bkYVDPflMsMT",
        "outputId": "d7b3b3e4-7c2b-4930-f282-5bc4f5629c5a"
      },
      "execution_count": 23,
      "outputs": [
        {
          "output_type": "stream",
          "name": "stdout",
          "text": [
            "Current Link: https://www.digitalcrew.agency/english-digital-marketing/facebook-and-instagram-ad/\n",
            "**Warning**: mysqli\\_real\\_connect(): (HY000/2002): No such file or directory in **/www/wwwroot/digitalcrew.agency/wp-includes/class-wpdb.php** on line **1987**\n",
            "\n",
            "WordPress › Error\n",
            "\n",
            "`No such file or directory`\n",
            "\n",
            "# Error establishing a database connection\n",
            "\n",
            "This either means that the username and password information in your `wp-config.php` file is incorrect or that contact with the database server at `localhost` could not be established. This could mean your host’s database server is down.\n",
            "\n",
            "- Are y\n"
          ]
        }
      ]
    },
    {
      "cell_type": "code",
      "source": [
        "link_extractor_agent = Agent(\n",
        "    role=\"Link Extractor\",\n",
        "    goal=\"Extract About page and contact page links from homepage content\",\n",
        "    backstory=\"\"\" Your and expert in web scraping and link extraction.\n",
        "    your task is to analyze homepage content and identify the URLs for the about\n",
        "    page and contect page \"\"\",\n",
        "    verbose=True,\n",
        "    allow_delegation=False,\n",
        "    llm=consistant\n",
        ")\n",
        "\n",
        "extract_link_= Task(\n",
        "    description=f\"\"\" Analyze the provided homepage content and extract the URLs\n",
        "    for the about page and contect page. Use this exact content:\n",
        "\n",
        "      ----\n",
        "\n",
        "      {scrape_result['markdown']}\n",
        "\n",
        "      ----\n",
        "\n",
        "    DO NOT INVENT OR ASSUME ANY INFORMATION. ONLY OUTPUT THE ABOUT PAGE AND CONTECT PAGE URLs,\n",
        "    NO OTHER INFO, JUST WEBSITE. If URL is not found, output None for that URL. Do not add\n",
        "    formatting. Simply output the about page URL on one line and the contact page URL on the next\n",
        "    line.   \"\"\",\n",
        "    expected_output=\"A clean list, with no formating, of ABOUT PAGE AND CONTECT PAGE URLs\",\n",
        "    agent=link_extractor_agent\n",
        ")\n",
        "\n",
        "link_crew = Crew(\n",
        "    agents=[link_extractor_agent],\n",
        "    tasks=[extract_link_],\n",
        "    verbose=False\n",
        ")\n",
        "\n",
        "link_results = link_crew.kickoff()\n",
        "\n",
        "print(\"\\n Link Results: \\n\")\n",
        "print(link_results.raw)"
      ],
      "metadata": {
        "colab": {
          "base_uri": "https://localhost:8080/"
        },
        "id": "FYn0kXV-gFl5",
        "outputId": "f6a3820a-46c2-46cb-ab2d-6f862f004a65"
      },
      "execution_count": 25,
      "outputs": [
        {
          "output_type": "stream",
          "name": "stderr",
          "text": [
            "WARNING:opentelemetry.trace:Overriding of current TracerProvider is not allowed\n"
          ]
        },
        {
          "output_type": "stream",
          "name": "stdout",
          "text": [
            "\u001b[1m\u001b[95m# Agent:\u001b[00m \u001b[1m\u001b[92mLink Extractor\u001b[00m\n",
            "\u001b[95m## Task:\u001b[00m \u001b[92m Analyze the provided homepage content and extract the URLs \n",
            "    for the about page and contect page. Use this exact content:\n",
            "      \n",
            "      ----\n",
            "\n",
            "      **Warning**: mysqli\\_real\\_connect(): (HY000/2002): No such file or directory in **/www/wwwroot/digitalcrew.agency/wp-includes/class-wpdb.php** on line **1987**\n",
            "\n",
            "WordPress › Error\n",
            "\n",
            "`No such file or directory`\n",
            "\n",
            "# Error establishing a database connection\n",
            "\n",
            "This either means that the username and password information in your `wp-config.php` file is incorrect or that contact with the database server at `localhost` could not be established. This could mean your host’s database server is down.\n",
            "\n",
            "- Are you sure you have the correct username and password?\n",
            "- Are you sure you have typed the correct hostname?\n",
            "- Are you sure the database server is running?\n",
            "\n",
            "If you are unsure what these terms mean you should probably contact your host. If you still need help you can always visit the [WordPress support forums](https://wordpress.org/support/forums/).\n",
            "\n",
            "      ----\n",
            "\n",
            "    DO NOT INVENT OR ASSUME ANY INFORMATION. ONLY OUTPUT THE ABOUT PAGE AND CONTECT PAGE URLs,\n",
            "    NO OTHER INFO, JUST WEBSITE. If URL is not found, output None for that URL. Do not add\n",
            "    formatting. Simply output the about page URL on one line and the contact page URL on the next\n",
            "    line.   \u001b[00m\n",
            "\n",
            "\n",
            "\u001b[1m\u001b[95m# Agent:\u001b[00m \u001b[1m\u001b[92mLink Extractor\u001b[00m\n",
            "\u001b[95m## Final Answer:\u001b[00m \u001b[92m\n",
            "None\n",
            "None\u001b[00m\n",
            "\n",
            "\n",
            "\n",
            " Link Results: \n",
            "\n",
            "None\n",
            "None\n"
          ]
        }
      ]
    }
  ]
}