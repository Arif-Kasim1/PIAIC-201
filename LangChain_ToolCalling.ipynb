{
  "nbformat": 4,
  "nbformat_minor": 0,
  "metadata": {
    "colab": {
      "provenance": [],
      "authorship_tag": "ABX9TyML7K4ZBmp4d/9H40cLgZLo",
      "include_colab_link": true
    },
    "kernelspec": {
      "name": "python3",
      "display_name": "Python 3"
    },
    "language_info": {
      "name": "python"
    }
  },
  "cells": [
    {
      "cell_type": "markdown",
      "metadata": {
        "id": "view-in-github",
        "colab_type": "text"
      },
      "source": [
        "<a href=\"https://colab.research.google.com/github/Arif-Kasim1/PIAIC-201/blob/main/LangChain_ToolCalling.ipynb\" target=\"_parent\"><img src=\"https://colab.research.google.com/assets/colab-badge.svg\" alt=\"Open In Colab\"/></a>"
      ]
    },
    {
      "cell_type": "markdown",
      "source": [
        "Implementing an example from the following url: https://python.langchain.com/docs/tutorials/agents/\n"
      ],
      "metadata": {
        "id": "ZjVGcZHoLWrP"
      }
    },
    {
      "cell_type": "code",
      "source": [
        "%pip install -Uq langchain_google_genai langchain-anthropic langchain-community langgraph langchain-anthropic tavily-python langgraph-checkpoint-sqlite"
      ],
      "metadata": {
        "id": "DgggFNjpL93m"
      },
      "execution_count": 6,
      "outputs": []
    },
    {
      "cell_type": "code",
      "execution_count": 24,
      "metadata": {
        "colab": {
          "base_uri": "https://localhost:8080/"
        },
        "id": "R04qwpIALBT8",
        "outputId": "dfb6e949-2733-4333-f101-d5f5c7a246d0"
      },
      "outputs": [
        {
          "output_type": "stream",
          "name": "stderr",
          "text": [
            "WARNING:langsmith.client:Failed to multipart ingest runs: langsmith.utils.LangSmithError: Failed to POST https://api.smith.langchain.com/runs/multipart in LangSmith API. HTTPError('403 Client Error: Forbidden for url: https://api.smith.langchain.com/runs/multipart', '{\"detail\":\"Forbidden\"}')\n"
          ]
        },
        {
          "output_type": "stream",
          "name": "stdout",
          "text": [
            "[{'url': 'https://www.weatherapi.com/', 'content': \"{'location': {'name': 'San Francisco', 'region': 'California', 'country': 'United States of America', 'lat': 37.775, 'lon': -122.4183, 'tz_id': 'America/Los_Angeles', 'localtime_epoch': 1735316849, 'localtime': '2024-12-27 08:27'}, 'current': {'last_updated_epoch': 1735316100, 'last_updated': '2024-12-27 08:15', 'temp_c': 15.3, 'temp_f': 59.5, 'is_day': 0, 'condition': {'text': 'Partly cloudy', 'icon': '//cdn.weatherapi.com/weather/64x64/night/116.png', 'code': 1003}, 'wind_mph': 17.4, 'wind_kph': 28.1, 'wind_degree': 172, 'wind_dir': 'S', 'pressure_mb': 1016.0, 'pressure_in': 30.0, 'precip_mm': 0.0, 'precip_in': 0.0, 'humidity': 87, 'cloud': 75, 'feelslike_c': 15.3, 'feelslike_f': 59.5, 'windchill_c': 9.9, 'windchill_f': 49.9, 'heatindex_c': 12.1, 'heatindex_f': 53.8, 'dewpoint_c': 11.6, 'dewpoint_f': 52.9, 'vis_km': 11.0, 'vis_miles': 6.0, 'uv': 0.0, 'gust_mph': 27.2, 'gust_kph': 43.8}}\"}, {'url': 'https://world-weather.info/forecast/usa/san_francisco/27-december/', 'content': 'Weather Weather in San Francisco Weather in San Francisco, December 27 Weather Forecast for December 27 in San Francisco, California - temperature, wind, atmospheric pressure, humidity and precipitations. WEATHER FORECAST IS NOT READY YET and temperature °F  RealFeel °F Atmospheric Night   +50°    +50°    30  7.8 91% Day +59°    +59°    30  13.6    81% Meteorological sensitivity index    3   Meteosensitive people are likely to experience weather-related symptoms. and temperature °F  RealFeel °F Atmospheric Night   +55°    +55°    29.9    19.5    88% Day +57°    +57°    29.8    6.7 88% Meteorological sensitivity index    3   Meteosensitive people are likely to experience weather-related symptoms. Night   +48°    +43°    29.9    13  79% Day +50°    +43°    29.8    18.3    72% Meteorological sensitivity index    3   Meteosensitive people are likely to experience weather-related symptoms.'}]\n"
          ]
        },
        {
          "output_type": "stream",
          "name": "stderr",
          "text": [
            "WARNING:langsmith.client:Failed to multipart ingest runs: langsmith.utils.LangSmithError: Failed to POST https://api.smith.langchain.com/runs/multipart in LangSmith API. HTTPError('403 Client Error: Forbidden for url: https://api.smith.langchain.com/runs/multipart', '{\"detail\":\"Forbidden\"}')\n"
          ]
        }
      ],
      "source": [
        "import getpass\n",
        "import os\n",
        "from google.colab import userdata\n",
        "from langchain_community.tools.tavily_search import TavilySearchResults\n",
        "# from langchain_anthropic import ChatAnthropic\n",
        "from langchain_google_genai import ChatGoogleGenerativeAI\n",
        "from langchain_core.messages import HumanMessage\n",
        "from langchain_core.tools import tool\n",
        "\n",
        "\n",
        "os.environ[\"LANGCHAIN_TRACING_V2\"] = \"true\"\n",
        "os.environ[\"LANGCHAIN_API_KEY\"] = userdata.get('GOOGLE_API_KEY')\n",
        "os.environ[\"TAVILY_API_KEY\"] = userdata.get('TAVILY_API_KEY')\n",
        "# os.environ[\"ANTHROPIC_API_KEY\"] = userdata.get('ANTHROPIC_API_KEY')\n",
        "os.environ[\"GOOGLE_API_KEY\"] = userdata.get('GOOGLE_API_KEY')\n",
        "\n",
        "\n",
        "search = TavilySearchResults(max_results=2)\n",
        "search_results = search.invoke(\"what is the weather in SF\")\n",
        "print(search_results)\n",
        "# If we want, we can create other tools.\n",
        "@tool\n",
        "def multiply(a: int, b: int) -> int:\n",
        "    \"\"\"Multiply a and b.\"\"\"\n",
        "    print(f\"Someone Called Me! Multiplying {a} and {b}\")\n",
        "    return a * b\n",
        "# Once we have all the tools we want, we can put them in a list that we will reference later.\n",
        "tools = [search, multiply]\n"
      ]
    },
    {
      "cell_type": "code",
      "source": [
        "llm = ChatGoogleGenerativeAI(\n",
        "    model = \"gemini-2.0-flash-exp\",\n",
        "    api_key = userdata.get('GOOGLE_API_KEY')\n",
        ")\n",
        "response = llm.invoke([HumanMessage(content=\"hi!\")])\n",
        "response.content"
      ],
      "metadata": {
        "colab": {
          "base_uri": "https://localhost:8080/",
          "height": 73
        },
        "id": "FeNXKUBL2mtm",
        "outputId": "f17ffee1-4f1a-4381-facb-2528c0768e1c"
      },
      "execution_count": 13,
      "outputs": [
        {
          "output_type": "stream",
          "name": "stderr",
          "text": [
            "WARNING:langsmith.client:Failed to multipart ingest runs: langsmith.utils.LangSmithError: Failed to POST https://api.smith.langchain.com/runs/multipart in LangSmith API. HTTPError('403 Client Error: Forbidden for url: https://api.smith.langchain.com/runs/multipart', '{\"detail\":\"Forbidden\"}')\n"
          ]
        },
        {
          "output_type": "execute_result",
          "data": {
            "text/plain": [
              "'Hi there! How can I help you today?\\n'"
            ],
            "application/vnd.google.colaboratory.intrinsic+json": {
              "type": "string"
            }
          },
          "metadata": {},
          "execution_count": 13
        }
      ]
    },
    {
      "cell_type": "code",
      "source": [
        "llm_with_tools = llm.bind_tools(tools)\n",
        "\n",
        "response = llm_with_tools.invoke([HumanMessage(content=\"Hi!\")])\n",
        "\n",
        "print(f\"ContentString: {response.content}\")\n",
        "print(f\"ToolCalls: {response.tool_calls}\")"
      ],
      "metadata": {
        "colab": {
          "base_uri": "https://localhost:8080/"
        },
        "id": "mH2S08eT5WPd",
        "outputId": "93ffa961-8a9d-45ec-e3cc-2918a49975d7"
      },
      "execution_count": 14,
      "outputs": [
        {
          "output_type": "stream",
          "name": "stderr",
          "text": [
            "WARNING:langsmith.client:Failed to multipart ingest runs: langsmith.utils.LangSmithError: Failed to POST https://api.smith.langchain.com/runs/multipart in LangSmith API. HTTPError('403 Client Error: Forbidden for url: https://api.smith.langchain.com/runs/multipart', '{\"detail\":\"Forbidden\"}')\n"
          ]
        },
        {
          "output_type": "stream",
          "name": "stdout",
          "text": [
            "ContentString: Hello! How can I help you today?\n",
            "\n",
            "ToolCalls: []\n"
          ]
        },
        {
          "output_type": "stream",
          "name": "stderr",
          "text": [
            "WARNING:langsmith.client:Failed to multipart ingest runs: langsmith.utils.LangSmithError: Failed to POST https://api.smith.langchain.com/runs/multipart in LangSmith API. HTTPError('403 Client Error: Forbidden for url: https://api.smith.langchain.com/runs/multipart', '{\"detail\":\"Forbidden\"}')\n"
          ]
        }
      ]
    },
    {
      "cell_type": "code",
      "source": [
        "response = llm_with_tools.invoke([HumanMessage(content=\"What's the weather in SF? and 2 multiply by 8 is what?\")])\n",
        "\n",
        "print(f\"ContentString: {response.content}\")\n",
        "print(f\"ToolCalls: {response.tool_calls}\")"
      ],
      "metadata": {
        "colab": {
          "base_uri": "https://localhost:8080/"
        },
        "id": "7XWSwTlo5pJ0",
        "outputId": "6059f32f-8bdd-4b48-a78f-86392cbf8dab"
      },
      "execution_count": 16,
      "outputs": [
        {
          "output_type": "stream",
          "name": "stderr",
          "text": [
            "WARNING:langsmith.client:Failed to multipart ingest runs: langsmith.utils.LangSmithError: Failed to POST https://api.smith.langchain.com/runs/multipart in LangSmith API. HTTPError('403 Client Error: Forbidden for url: https://api.smith.langchain.com/runs/multipart', '{\"detail\":\"Forbidden\"}')\n"
          ]
        },
        {
          "output_type": "stream",
          "name": "stdout",
          "text": [
            "ContentString: \n",
            "ToolCalls: [{'name': 'tavily_search_results_json', 'args': {'query': 'weather in San Francisco'}, 'id': 'ecbee9e5-e925-41c3-9d4f-e4b90a49e3c2', 'type': 'tool_call'}, {'name': 'multiply', 'args': {'a': 2.0, 'b': 8.0}, 'id': 'da638a1b-9ce4-4f62-ac54-ff02b56b4dae', 'type': 'tool_call'}]\n"
          ]
        }
      ]
    },
    {
      "cell_type": "code",
      "source": [
        "from langgraph.prebuilt import create_react_agent\n",
        "\n",
        "agent_executor = create_react_agent(llm, tools)\n",
        "\n",
        "response = agent_executor.invoke({\"messages\": [HumanMessage(content=\"hi!\")]})\n",
        "\n",
        "response[\"messages\"]"
      ],
      "metadata": {
        "colab": {
          "base_uri": "https://localhost:8080/"
        },
        "id": "MklEWqX56vdk",
        "outputId": "80033b19-169c-4043-fe8c-3d799a48b256"
      },
      "execution_count": 18,
      "outputs": [
        {
          "output_type": "stream",
          "name": "stderr",
          "text": [
            "WARNING:langsmith.client:Failed to multipart ingest runs: langsmith.utils.LangSmithError: Failed to POST https://api.smith.langchain.com/runs/multipart in LangSmith API. HTTPError('403 Client Error: Forbidden for url: https://api.smith.langchain.com/runs/multipart', '{\"detail\":\"Forbidden\"}')\n"
          ]
        },
        {
          "output_type": "execute_result",
          "data": {
            "text/plain": [
              "[HumanMessage(content='hi!', additional_kwargs={}, response_metadata={}, id='98cee715-6e0a-457d-8315-aad792b73aa2'),\n",
              " AIMessage(content='Hello! How can I help you today?\\n', additional_kwargs={}, response_metadata={'prompt_feedback': {'block_reason': 0, 'safety_ratings': []}, 'finish_reason': 'STOP', 'safety_ratings': [{'category': 'HARM_CATEGORY_HATE_SPEECH', 'probability': 'NEGLIGIBLE', 'blocked': False}, {'category': 'HARM_CATEGORY_DANGEROUS_CONTENT', 'probability': 'NEGLIGIBLE', 'blocked': False}, {'category': 'HARM_CATEGORY_HARASSMENT', 'probability': 'NEGLIGIBLE', 'blocked': False}, {'category': 'HARM_CATEGORY_SEXUALLY_EXPLICIT', 'probability': 'NEGLIGIBLE', 'blocked': False}]}, id='run-8cb26630-8d62-4870-ad3d-29636d6a9d4c-0', usage_metadata={'input_tokens': 122, 'output_tokens': 10, 'total_tokens': 132, 'input_token_details': {'cache_read': 0}})]"
            ]
          },
          "metadata": {},
          "execution_count": 18
        },
        {
          "output_type": "stream",
          "name": "stderr",
          "text": [
            "WARNING:langsmith.client:Failed to multipart ingest runs: langsmith.utils.LangSmithError: Failed to POST https://api.smith.langchain.com/runs/multipart in LangSmith API. HTTPError('403 Client Error: Forbidden for url: https://api.smith.langchain.com/runs/multipart', '{\"detail\":\"Forbidden\"}')\n"
          ]
        }
      ]
    },
    {
      "cell_type": "code",
      "source": [
        "response = agent_executor.invoke(\n",
        "    {\"messages\": [HumanMessage(content=\"whats the weather in sf?\")]}\n",
        ")\n",
        "response[\"messages\"]\n",
        "\n",
        "response = agent_executor.invoke(\n",
        "    {\"messages\": [HumanMessage(content=\"what is 2 multiply by 8?\")]}\n",
        ")\n",
        "# textwrap.fill(response['result'], width=80)\n",
        "print(response[\"messages\"])"
      ],
      "metadata": {
        "colab": {
          "base_uri": "https://localhost:8080/"
        },
        "id": "wX6Cyf5Q7GJL",
        "outputId": "08090bd0-2ec2-4c9c-b754-3f5abf186fa8"
      },
      "execution_count": 25,
      "outputs": [
        {
          "output_type": "stream",
          "name": "stderr",
          "text": [
            "WARNING:langsmith.client:Failed to multipart ingest runs: langsmith.utils.LangSmithError: Failed to POST https://api.smith.langchain.com/runs/multipart in LangSmith API. HTTPError('403 Client Error: Forbidden for url: https://api.smith.langchain.com/runs/multipart', '{\"detail\":\"Forbidden\"}')\n",
            "WARNING:langsmith.client:Failed to multipart ingest runs: langsmith.utils.LangSmithError: Failed to POST https://api.smith.langchain.com/runs/multipart in LangSmith API. HTTPError('403 Client Error: Forbidden for url: https://api.smith.langchain.com/runs/multipart', '{\"detail\":\"Forbidden\"}')\n",
            "WARNING:langsmith.client:Failed to multipart ingest runs: langsmith.utils.LangSmithError: Failed to POST https://api.smith.langchain.com/runs/multipart in LangSmith API. HTTPError('403 Client Error: Forbidden for url: https://api.smith.langchain.com/runs/multipart', '{\"detail\":\"Forbidden\"}')\n",
            "WARNING:langsmith.client:Failed to multipart ingest runs: langsmith.utils.LangSmithError: Failed to POST https://api.smith.langchain.com/runs/multipart in LangSmith API. HTTPError('403 Client Error: Forbidden for url: https://api.smith.langchain.com/runs/multipart', '{\"detail\":\"Forbidden\"}')\n",
            "WARNING:langsmith.client:Failed to multipart ingest runs: langsmith.utils.LangSmithError: Failed to POST https://api.smith.langchain.com/runs/multipart in LangSmith API. HTTPError('403 Client Error: Forbidden for url: https://api.smith.langchain.com/runs/multipart', '{\"detail\":\"Forbidden\"}')\n"
          ]
        },
        {
          "output_type": "stream",
          "name": "stdout",
          "text": [
            "[HumanMessage(content='what is 2 multiply by 8?', additional_kwargs={}, response_metadata={}, id='78b76cf8-0e53-4962-b890-2c5d7577d227'), AIMessage(content='', additional_kwargs={'function_call': {'name': 'multiply', 'arguments': '{\"a\": 2.0, \"b\": 8.0}'}}, response_metadata={'prompt_feedback': {'block_reason': 0, 'safety_ratings': []}, 'finish_reason': 'STOP', 'safety_ratings': [{'category': 'HARM_CATEGORY_HATE_SPEECH', 'probability': 'NEGLIGIBLE', 'blocked': False}, {'category': 'HARM_CATEGORY_DANGEROUS_CONTENT', 'probability': 'NEGLIGIBLE', 'blocked': False}, {'category': 'HARM_CATEGORY_HARASSMENT', 'probability': 'NEGLIGIBLE', 'blocked': False}, {'category': 'HARM_CATEGORY_SEXUALLY_EXPLICIT', 'probability': 'NEGLIGIBLE', 'blocked': False}]}, id='run-c6088c61-4716-457c-a694-82aa2b3fe930-0', tool_calls=[{'name': 'multiply', 'args': {'a': 2.0, 'b': 8.0}, 'id': '7f811684-c1c8-4370-8d49-e6241fe65bbb', 'type': 'tool_call'}], usage_metadata={'input_tokens': 129, 'output_tokens': 3, 'total_tokens': 132, 'input_token_details': {'cache_read': 0}}), ToolMessage(content='16', name='multiply', id='d6062dc8-6e12-408b-8090-e0fa81f303dc', tool_call_id='7f811684-c1c8-4370-8d49-e6241fe65bbb'), AIMessage(content='2 multiplied by 8 is 16.\\n', additional_kwargs={}, response_metadata={'prompt_feedback': {'block_reason': 0, 'safety_ratings': []}, 'finish_reason': 'STOP', 'safety_ratings': [{'category': 'HARM_CATEGORY_HATE_SPEECH', 'probability': 'NEGLIGIBLE', 'blocked': False}, {'category': 'HARM_CATEGORY_DANGEROUS_CONTENT', 'probability': 'NEGLIGIBLE', 'blocked': False}, {'category': 'HARM_CATEGORY_HARASSMENT', 'probability': 'NEGLIGIBLE', 'blocked': False}, {'category': 'HARM_CATEGORY_SEXUALLY_EXPLICIT', 'probability': 'NEGLIGIBLE', 'blocked': False}]}, id='run-4e2d851d-80ca-4e95-8ffb-c35ebb4c83b7-0', usage_metadata={'input_tokens': 163, 'output_tokens': 11, 'total_tokens': 174, 'input_token_details': {'cache_read': 0}})]\n"
          ]
        },
        {
          "output_type": "stream",
          "name": "stderr",
          "text": [
            "WARNING:langsmith.client:Failed to multipart ingest runs: langsmith.utils.LangSmithError: Failed to POST https://api.smith.langchain.com/runs/multipart in LangSmith API. HTTPError('403 Client Error: Forbidden for url: https://api.smith.langchain.com/runs/multipart', '{\"detail\":\"Forbidden\"}')\n"
          ]
        }
      ]
    },
    {
      "cell_type": "code",
      "source": [
        "for chunk in agent_executor.stream(\n",
        "    {\"messages\": [HumanMessage(content=\"whats the weather in sf?\")]}\n",
        "):\n",
        "    print(chunk)\n",
        "    print(\"----\")"
      ],
      "metadata": {
        "colab": {
          "base_uri": "https://localhost:8080/"
        },
        "id": "t3YBjgva90p5",
        "outputId": "600b9f88-961a-463d-884f-c304717cde23"
      },
      "execution_count": 26,
      "outputs": [
        {
          "output_type": "stream",
          "name": "stderr",
          "text": [
            "WARNING:langsmith.client:Failed to multipart ingest runs: langsmith.utils.LangSmithError: Failed to POST https://api.smith.langchain.com/runs/multipart in LangSmith API. HTTPError('403 Client Error: Forbidden for url: https://api.smith.langchain.com/runs/multipart', '{\"detail\":\"Forbidden\"}')\n"
          ]
        },
        {
          "output_type": "stream",
          "name": "stdout",
          "text": [
            "{'agent': {'messages': [AIMessage(content='', additional_kwargs={'function_call': {'name': 'tavily_search_results_json', 'arguments': '{\"query\": \"weather in san francisco\"}'}}, response_metadata={'prompt_feedback': {'block_reason': 0, 'safety_ratings': []}, 'finish_reason': 'STOP', 'safety_ratings': [{'category': 'HARM_CATEGORY_HATE_SPEECH', 'probability': 'NEGLIGIBLE', 'blocked': False}, {'category': 'HARM_CATEGORY_DANGEROUS_CONTENT', 'probability': 'NEGLIGIBLE', 'blocked': False}, {'category': 'HARM_CATEGORY_HARASSMENT', 'probability': 'NEGLIGIBLE', 'blocked': False}, {'category': 'HARM_CATEGORY_SEXUALLY_EXPLICIT', 'probability': 'NEGLIGIBLE', 'blocked': False}]}, id='run-dff7edb9-aaa8-4db6-b407-0977c093b266-0', tool_calls=[{'name': 'tavily_search_results_json', 'args': {'query': 'weather in san francisco'}, 'id': '46a8954b-752c-4222-ab20-419895a092c4', 'type': 'tool_call'}], usage_metadata={'input_tokens': 126, 'output_tokens': 13, 'total_tokens': 139, 'input_token_details': {'cache_read': 0}})]}}\n",
            "----\n"
          ]
        },
        {
          "output_type": "stream",
          "name": "stderr",
          "text": [
            "WARNING:langsmith.client:Failed to multipart ingest runs: langsmith.utils.LangSmithError: Failed to POST https://api.smith.langchain.com/runs/multipart in LangSmith API. HTTPError('403 Client Error: Forbidden for url: https://api.smith.langchain.com/runs/multipart', '{\"detail\":\"Forbidden\"}')\n",
            "WARNING:langsmith.client:Failed to multipart ingest runs: langsmith.utils.LangSmithError: Failed to POST https://api.smith.langchain.com/runs/multipart in LangSmith API. HTTPError('403 Client Error: Forbidden for url: https://api.smith.langchain.com/runs/multipart', '{\"detail\":\"Forbidden\"}')\n"
          ]
        },
        {
          "output_type": "stream",
          "name": "stdout",
          "text": [
            "{'tools': {'messages': [ToolMessage(content='[{\"url\": \"https://www.weatherapi.com/\", \"content\": \"{\\'location\\': {\\'name\\': \\'San Francisco\\', \\'region\\': \\'California\\', \\'country\\': \\'United States of America\\', \\'lat\\': 37.775, \\'lon\\': -122.4183, \\'tz_id\\': \\'America/Los_Angeles\\', \\'localtime_epoch\\': 1735315202, \\'localtime\\': \\'2024-12-27 08:00\\'}, \\'current\\': {\\'last_updated_epoch\\': 1735315200, \\'last_updated\\': \\'2024-12-27 08:00\\', \\'temp_c\\': 15.2, \\'temp_f\\': 59.4, \\'is_day\\': 1, \\'condition\\': {\\'text\\': \\'Partly cloudy\\', \\'icon\\': \\'//cdn.weatherapi.com/weather/64x64/day/116.png\\', \\'code\\': 1003}, \\'wind_mph\\': 11.0, \\'wind_kph\\': 17.6, \\'wind_degree\\': 251, \\'wind_dir\\': \\'WSW\\', \\'pressure_mb\\': 1016.0, \\'pressure_in\\': 30.0, \\'precip_mm\\': 0.0, \\'precip_in\\': 0.0, \\'humidity\\': 87, \\'cloud\\': 75, \\'feelslike_c\\': 15.2, \\'feelslike_f\\': 59.4, \\'windchill_c\\': 11.4, \\'windchill_f\\': 52.4, \\'heatindex_c\\': 12.8, \\'heatindex_f\\': 55.0, \\'dewpoint_c\\': 12.7, \\'dewpoint_f\\': 54.9, \\'vis_km\\': 11.0, \\'vis_miles\\': 6.0, \\'uv\\': 0.1, \\'gust_mph\\': 18.1, \\'gust_kph\\': 29.1}}\"}, {\"url\": \"https://www.msn.com/en-us/weather/topstories/december-27-2024-san-francisco-bay-area-weather-forecast/vi-AA1wzP6Y\", \"content\": \"KRON San Francisco. December 27, 2024 San Francisco Bay Area weather forecast. Posted: December 27, 2024 | Last updated: December 27, 2024. KRON4 Meteorologist Kathy Trafton has the latest\"}]', name='tavily_search_results_json', id='1a2070cb-22e3-452e-ad39-ff646a438ac3', tool_call_id='46a8954b-752c-4222-ab20-419895a092c4', artifact={'query': 'weather in san francisco', 'follow_up_questions': None, 'answer': None, 'images': [], 'results': [{'title': 'Weather in San Francisco', 'url': 'https://www.weatherapi.com/', 'content': \"{'location': {'name': 'San Francisco', 'region': 'California', 'country': 'United States of America', 'lat': 37.775, 'lon': -122.4183, 'tz_id': 'America/Los_Angeles', 'localtime_epoch': 1735315202, 'localtime': '2024-12-27 08:00'}, 'current': {'last_updated_epoch': 1735315200, 'last_updated': '2024-12-27 08:00', 'temp_c': 15.2, 'temp_f': 59.4, 'is_day': 1, 'condition': {'text': 'Partly cloudy', 'icon': '//cdn.weatherapi.com/weather/64x64/day/116.png', 'code': 1003}, 'wind_mph': 11.0, 'wind_kph': 17.6, 'wind_degree': 251, 'wind_dir': 'WSW', 'pressure_mb': 1016.0, 'pressure_in': 30.0, 'precip_mm': 0.0, 'precip_in': 0.0, 'humidity': 87, 'cloud': 75, 'feelslike_c': 15.2, 'feelslike_f': 59.4, 'windchill_c': 11.4, 'windchill_f': 52.4, 'heatindex_c': 12.8, 'heatindex_f': 55.0, 'dewpoint_c': 12.7, 'dewpoint_f': 54.9, 'vis_km': 11.0, 'vis_miles': 6.0, 'uv': 0.1, 'gust_mph': 18.1, 'gust_kph': 29.1}}\", 'score': 0.9259766, 'raw_content': None}, {'title': 'December 27, 2024 San Francisco Bay Area weather forecast - MSN', 'url': 'https://www.msn.com/en-us/weather/topstories/december-27-2024-san-francisco-bay-area-weather-forecast/vi-AA1wzP6Y', 'content': 'KRON San Francisco. December 27, 2024 San Francisco Bay Area weather forecast. Posted: December 27, 2024 | Last updated: December 27, 2024. KRON4 Meteorologist Kathy Trafton has the latest', 'score': 0.8989177, 'raw_content': None}], 'response_time': 2.26})]}}\n",
            "----\n",
            "{'agent': {'messages': [AIMessage(content='The weather in San Francisco is partly cloudy with a temperature of 15.2 degrees Celsius (59.4 degrees Fahrenheit). The wind is from the WSW at 11 mph, and the humidity is 87%.\\n', additional_kwargs={}, response_metadata={'prompt_feedback': {'block_reason': 0, 'safety_ratings': []}, 'finish_reason': 'STOP', 'safety_ratings': [{'category': 'HARM_CATEGORY_HATE_SPEECH', 'probability': 'NEGLIGIBLE', 'blocked': False}, {'category': 'HARM_CATEGORY_DANGEROUS_CONTENT', 'probability': 'NEGLIGIBLE', 'blocked': False}, {'category': 'HARM_CATEGORY_HARASSMENT', 'probability': 'NEGLIGIBLE', 'blocked': False}, {'category': 'HARM_CATEGORY_SEXUALLY_EXPLICIT', 'probability': 'NEGLIGIBLE', 'blocked': False}]}, id='run-90daf4d1-1a34-4909-b42f-f478bd158e13-0', usage_metadata={'input_tokens': 833, 'output_tokens': 49, 'total_tokens': 882, 'input_token_details': {'cache_read': 0}})]}}\n",
            "----\n"
          ]
        },
        {
          "output_type": "stream",
          "name": "stderr",
          "text": [
            "WARNING:langsmith.client:Failed to multipart ingest runs: langsmith.utils.LangSmithError: Failed to POST https://api.smith.langchain.com/runs/multipart in LangSmith API. HTTPError('403 Client Error: Forbidden for url: https://api.smith.langchain.com/runs/multipart', '{\"detail\":\"Forbidden\"}')\n"
          ]
        }
      ]
    },
    {
      "cell_type": "code",
      "source": [
        "for chunk in agent_executor.stream(\n",
        "    {\"messages\": [HumanMessage(content=\"what 2 * 5 is?\")]}\n",
        "):\n",
        "    print(chunk)\n",
        "    print(\"----\")"
      ],
      "metadata": {
        "colab": {
          "base_uri": "https://localhost:8080/"
        },
        "id": "ARy3t0vb95uY",
        "outputId": "73177264-dafc-479a-fd74-c226bac1f5b6"
      },
      "execution_count": 27,
      "outputs": [
        {
          "output_type": "stream",
          "name": "stdout",
          "text": [
            "{'agent': {'messages': [AIMessage(content='', additional_kwargs={'function_call': {'name': 'multiply', 'arguments': '{\"a\": 2.0, \"b\": 5.0}'}}, response_metadata={'prompt_feedback': {'block_reason': 0, 'safety_ratings': []}, 'finish_reason': 'STOP', 'safety_ratings': [{'category': 'HARM_CATEGORY_HATE_SPEECH', 'probability': 'NEGLIGIBLE', 'blocked': False}, {'category': 'HARM_CATEGORY_DANGEROUS_CONTENT', 'probability': 'NEGLIGIBLE', 'blocked': False}, {'category': 'HARM_CATEGORY_HARASSMENT', 'probability': 'NEGLIGIBLE', 'blocked': False}, {'category': 'HARM_CATEGORY_SEXUALLY_EXPLICIT', 'probability': 'NEGLIGIBLE', 'blocked': False}]}, id='run-688c3259-c5d4-40ce-beb8-a9dbc655bc54-0', tool_calls=[{'name': 'multiply', 'args': {'a': 2.0, 'b': 5.0}, 'id': 'f577ea54-b868-4cf4-8924-e2337f110644', 'type': 'tool_call'}], usage_metadata={'input_tokens': 128, 'output_tokens': 3, 'total_tokens': 131, 'input_token_details': {'cache_read': 0}})]}}\n",
            "----\n",
            "{'tools': {'messages': [ToolMessage(content='10', name='multiply', id='cf7a6348-6a31-42c3-812d-610a4ffa2b64', tool_call_id='f577ea54-b868-4cf4-8924-e2337f110644')]}}\n",
            "----\n"
          ]
        },
        {
          "output_type": "stream",
          "name": "stderr",
          "text": [
            "WARNING:langsmith.client:Failed to multipart ingest runs: langsmith.utils.LangSmithError: Failed to POST https://api.smith.langchain.com/runs/multipart in LangSmith API. HTTPError('403 Client Error: Forbidden for url: https://api.smith.langchain.com/runs/multipart', '{\"detail\":\"Forbidden\"}')\n",
            "WARNING:langsmith.client:Failed to multipart ingest runs: langsmith.utils.LangSmithError: Failed to POST https://api.smith.langchain.com/runs/multipart in LangSmith API. HTTPError('403 Client Error: Forbidden for url: https://api.smith.langchain.com/runs/multipart', '{\"detail\":\"Forbidden\"}')\n"
          ]
        },
        {
          "output_type": "stream",
          "name": "stdout",
          "text": [
            "{'agent': {'messages': [AIMessage(content='2 * 5 is 10.\\n', additional_kwargs={}, response_metadata={'prompt_feedback': {'block_reason': 0, 'safety_ratings': []}, 'finish_reason': 'STOP', 'safety_ratings': [{'category': 'HARM_CATEGORY_HATE_SPEECH', 'probability': 'NEGLIGIBLE', 'blocked': False}, {'category': 'HARM_CATEGORY_DANGEROUS_CONTENT', 'probability': 'NEGLIGIBLE', 'blocked': False}, {'category': 'HARM_CATEGORY_HARASSMENT', 'probability': 'NEGLIGIBLE', 'blocked': False}, {'category': 'HARM_CATEGORY_SEXUALLY_EXPLICIT', 'probability': 'NEGLIGIBLE', 'blocked': False}]}, id='run-be40d737-2081-4efb-a99c-c18d262ebf83-0', usage_metadata={'input_tokens': 162, 'output_tokens': 10, 'total_tokens': 172, 'input_token_details': {'cache_read': 0}})]}}\n",
            "----\n"
          ]
        },
        {
          "output_type": "stream",
          "name": "stderr",
          "text": [
            "WARNING:langsmith.client:Failed to multipart ingest runs: langsmith.utils.LangSmithError: Failed to POST https://api.smith.langchain.com/runs/multipart in LangSmith API. HTTPError('403 Client Error: Forbidden for url: https://api.smith.langchain.com/runs/multipart', '{\"detail\":\"Forbidden\"}')\n"
          ]
        }
      ]
    }
  ]
}