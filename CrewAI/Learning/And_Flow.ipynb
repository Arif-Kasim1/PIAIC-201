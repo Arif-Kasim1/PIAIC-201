{
  "nbformat": 4,
  "nbformat_minor": 0,
  "metadata": {
    "colab": {
      "provenance": [],
      "authorship_tag": "ABX9TyP1mhF/o8MZ+XwNRDDqMdal",
      "include_colab_link": true
    },
    "kernelspec": {
      "name": "python3",
      "display_name": "Python 3"
    },
    "language_info": {
      "name": "python"
    }
  },
  "cells": [
    {
      "cell_type": "markdown",
      "metadata": {
        "id": "view-in-github",
        "colab_type": "text"
      },
      "source": [
        "<a href=\"https://colab.research.google.com/github/Arif-Kasim1/PIAIC-201/blob/main/CrewAI/Learning/And_Flow.ipynb\" target=\"_parent\"><img src=\"https://colab.research.google.com/assets/colab-badge.svg\" alt=\"Open In Colab\"/></a>"
      ]
    },
    {
      "cell_type": "code",
      "execution_count": 3,
      "metadata": {
        "id": "lUnuA0JgCPNO"
      },
      "outputs": [],
      "source": [
        "%pip install -q crewai"
      ]
    },
    {
      "cell_type": "code",
      "source": [
        "from crewai.flow.flow import Flow, start, listen, or_, and_\n",
        "from pydantic import BaseModel\n",
        "import nest_asyncio\n",
        "nest_asyncio.apply()\n",
        "\n",
        "class AndFlow(Flow):\n",
        "\n",
        "  @start()\n",
        "  def first_method(self):\n",
        "    print(\"From the first method\")\n",
        "    self.state[\"message1\"] = \"Hello from first method\"\n",
        "\n",
        "  @listen(first_method)\n",
        "  def second_method(self):\n",
        "    print(\"From the second method\")\n",
        "    self.state[\"message2\"] = \"Hello from second method\"\n",
        "\n",
        "  @listen(second_method)\n",
        "  def third_method(self):\n",
        "    print(\"From the third method\")\n",
        "    self.state[\"message3\"] = \"Hello from second method\"\n",
        "\n",
        "\n",
        "  @listen(and_(first_method, second_method))\n",
        "  def fourth_method(self):\n",
        "    print(\"From the fourth method\")\n",
        "    self.state[\"message4\"] = \"Hello from fourth method\"\n",
        "\n",
        "flow = AndFlow()\n",
        "flow.kickoff()\n",
        "\n",
        "print(f\"Final State: {flow.state}\")\n",
        "\n",
        "\n"
      ],
      "metadata": {
        "colab": {
          "base_uri": "https://localhost:8080/"
        },
        "id": "DTrHN-V4CXM2",
        "outputId": "60eee820-68c7-47f0-dfe4-838688cace9f"
      },
      "execution_count": 6,
      "outputs": [
        {
          "output_type": "stream",
          "name": "stdout",
          "text": [
            "From the first method\n",
            "From the second method\n",
            "From the third method\n",
            "From the fourth method\n",
            "Final State: {'message1': 'Hello from first method', 'message2': 'Hello from second method', 'message3': 'Hello from second method', 'message4': 'Hello from fourth method'}\n"
          ]
        }
      ]
    }
  ]
}