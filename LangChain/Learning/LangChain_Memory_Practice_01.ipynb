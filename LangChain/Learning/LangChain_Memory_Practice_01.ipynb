{
  "nbformat": 4,
  "nbformat_minor": 0,
  "metadata": {
    "colab": {
      "provenance": [],
      "authorship_tag": "ABX9TyOTDbzzyQ2iTWupa+9PUVhe",
      "include_colab_link": true
    },
    "kernelspec": {
      "name": "python3",
      "display_name": "Python 3"
    },
    "language_info": {
      "name": "python"
    }
  },
  "cells": [
    {
      "cell_type": "markdown",
      "metadata": {
        "id": "view-in-github",
        "colab_type": "text"
      },
      "source": [
        "<a href=\"https://colab.research.google.com/github/Arif-Kasim1/PIAIC-201/blob/main/LangChain_Memory_Practice_01.ipynb\" target=\"_parent\"><img src=\"https://colab.research.google.com/assets/colab-badge.svg\" alt=\"Open In Colab\"/></a>"
      ]
    },
    {
      "cell_type": "code",
      "source": [
        "%pip install -Uq langchain-google-genai langchain"
      ],
      "metadata": {
        "id": "ntwOvU68QemZ"
      },
      "execution_count": 6,
      "outputs": []
    },
    {
      "cell_type": "code",
      "execution_count": 9,
      "metadata": {
        "colab": {
          "base_uri": "https://localhost:8080/"
        },
        "id": "7fzpCGuULcj6",
        "outputId": "c9567551-3ff5-4914-e876-d44bccfd9f34"
      },
      "outputs": [
        {
          "output_type": "stream",
          "name": "stderr",
          "text": [
            "<ipython-input-9-30cdf2d9292a>:12: LangChainDeprecationWarning: Please see the migration guide at: https://python.langchain.com/docs/versions/migrating_memory/\n",
            "  memory = ConversationBufferMemory()\n",
            "<ipython-input-9-30cdf2d9292a>:14: LangChainDeprecationWarning: The class `ConversationChain` was deprecated in LangChain 0.2.7 and will be removed in 1.0. Use :meth:`~RunnableWithMessageHistory: https://python.langchain.com/v0.2/api_reference/core/runnables/langchain_core.runnables.history.RunnableWithMessageHistory.html` instead.\n",
            "  chain = ConversationChain(llm=llm, memory=memory)\n"
          ]
        },
        {
          "name": "stdout",
          "output_type": "stream",
          "text": [
            "You: what is the shape of an apple\n"
          ]
        },
        {
          "output_type": "stream",
          "name": "stderr",
          "text": [
            "<ipython-input-9-30cdf2d9292a>:20: LangChainDeprecationWarning: The method `Chain.run` was deprecated in langchain 0.1.0 and will be removed in 1.0. Use :meth:`~invoke` instead.\n",
            "  response = chain.run(user_input)\n"
          ]
        },
        {
          "name": "stdout",
          "output_type": "stream",
          "text": [
            "Bot:  Okay, that's a fun question! The shape of an apple is something that can vary quite a bit, but there are some general characteristics we can talk about.\n",
            "\n",
            "Generally speaking, an apple is considered to be an **oblate spheroid**. Now, what does that mean? Well, a sphere is perfectly round, like a ball. An oblate spheroid is like a sphere that's been squashed a little bit at the poles (the top and bottom). Think of it like a slightly flattened ball.\n",
            "\n",
            "However, it's not a perfect oblate spheroid. Here's where the variations come in:\n",
            "\n",
            "*   **Stem and Calyx:** Apples have a stem at the top and what's called a calyx at the bottom. The calyx is the little \"belly button\" area where the flower used to be. These features obviously interrupt the smooth spheroid shape.\n",
            "*   **Variety Differences:** The specific shape varies significantly depending on the apple variety. Some apples, like Red Delicious, tend to be more elongated and almost heart-shaped, with prominent \"lobes\" at the bottom. Others, like Granny Smiths, are often more rounded and less elongated. Still others, like Fuji apples, tend to be quite round and symmetrical.\n",
            "*   **Individual Variation:** Even within the same variety, you'll find variations in shape. Some apples might be a little more lopsided, some might be rounder, some might have a flatter bottom, etc. This is due to natural variations in growth.\n",
            "*   **\"Typical\" Shape:** When you think of a stereotypical apple, you might imagine a shape that's a bit wider than it is tall, with a slightly rounded top and a gently curving bottom, with that slight indentation at the top where the stem is and the calyx at the bottom.\n",
            "\n",
            "So, while we can say the general shape is an oblate spheroid, it's important to remember that there's a lot of natural variation! It's part of what makes each apple unique. It's like saying a \"cat\" – you know generally what it looks like, but there's a huge range of sizes, colors, and features.\n",
            "\n",
            "Do you have any particular kind of apple in mind? We could talk about how their shapes tend to differ!\n",
            "\n",
            "You: give me simple answer\n",
            "Bot:  Okay, a simple answer: Apples are generally a slightly flattened sphere shape, but with variations.\n",
            "\n",
            "You: and whats the color\n",
            "Bot:  Okay, let's talk about the color of apples! Just like their shape, the color of an apple is another feature that has a lot of delightful variation. Here's a breakdown:\n",
            "\n",
            "**Primary Colors:**\n",
            "\n",
            "*   **Red:** This is probably the most iconic apple color. Red apples get their color from pigments called anthocyanins, which develop in the skin as the apple ripens and is exposed to sunlight. There are many shades of red, from bright, cherry red to deep, almost burgundy red. Varieties like Red Delicious, Gala, and Fuji are known for their red hues.\n",
            "*   **Green:** Green apples are often associated with tartness and are also colored by pigments, primarily chlorophyll. As apples ripen, chlorophyll tends to break down, which is why many green apples turn yellow or red. However, some varieties, like Granny Smith, stay green even when fully ripe.\n",
            "*   **Yellow:** Yellow apples get their color from carotenoid pigments. These can range from a pale, creamy yellow to a rich, golden yellow. Golden Delicious and some varieties of Pippin apples are good examples of yellow apples.\n",
            "\n",
            "**Secondary Colors and Patterns:**\n",
            "\n",
            "*   **Pink/Rosy:** Some apple varieties, like Pink Lady, have a lovely pink or rosy hue. This is often a blend of red and yellow pigments.\n",
            "*   **Striped or Mottled:** Many apples have a combination of colors in stripes or mottled patterns. This can be due to variations in pigment development on different parts of the skin. For example, a Fuji apple might have red stripes over a yellow background.\n",
            "*   **Blushed:** Some apples have a \"blush\" of color, where one side of the apple is more intensely colored than the other, usually due to more direct sun exposure.\n",
            "\n",
            "**Factors Affecting Color:**\n",
            "\n",
            "*   **Variety:** The genetic makeup of the apple variety is the biggest factor determining its color.\n",
            "*   **Ripeness:** As apples ripen, their color usually changes. Green apples often become yellow or red, and red apples may deepen in color.\n",
            "*   **Sunlight:** Exposure to sunlight is crucial for the development of red and other colored pigments. Apples that are shaded may not develop as much color.\n",
            "*   **Temperature:** Temperature can also affect pigment development. Cooler temperatures tend to promote the formation of anthocyanins, leading to more vibrant red colors.\n",
            "*   **Growing Region:** The climate and soil conditions of the growing region can also subtly impact the color of apples.\n",
            "\n",
            "**In Summary:**\n",
            "\n",
            "The color of an apple is not a single, fixed thing. It's a beautiful spectrum, ranging from green to yellow to various shades of red, often with stripes, blushes, and other patterns. It's influenced by genetics, ripeness, sunlight, temperature, and even the specific growing conditions.\n",
            "\n",
            "Do you have a favorite apple color, or one you're particularly curious about? I'd be happy to tell you more!\n",
            "\n",
            "You: do apple and banana have same shape\n",
            "Bot:  That's a great question that highlights how different fruits can be! The simple answer is: no, apples and bananas do *not* have the same shape. They are quite distinct.\n",
            "\n",
            "Here's a more detailed comparison, focusing on why their shapes differ:\n",
            "\n",
            "**Apples:**\n",
            "\n",
            "*   As we discussed earlier, apples are generally considered to be **oblate spheroids**, meaning they are somewhat like a flattened sphere.\n",
            "*   They have a relatively rounded body, although variations exist depending on the variety.\n",
            "*   They have a stem at the top and a calyx (the \"belly button\" area) at the bottom, which are distinct features.\n",
            "*   Their shape is generally symmetrical, although some apples can be a bit lopsided.\n",
            "\n",
            "**Bananas:**\n",
            "\n",
            "*   Bananas have a **elongated, curved shape**. They are often described as being crescent-shaped or even boomerang-shaped.\n",
            "*   They have a distinct curve, which is a defining characteristic.\n",
            "*   They have a stem at one end, where they were attached to the bunch, and a tip at the other end.\n",
            "*   They are generally less symmetrical than apples, with a pronounced curve along their length.\n",
            "\n",
            "**Why the Different Shapes?**\n",
            "\n",
            "The different shapes are primarily due to the way these fruits develop:\n",
            "\n",
            "*   **Apples:** Apples develop from the flower's ovary, which swells and forms the fruit. The shape is influenced by the way the cells divide and expand as the fruit grows. The rounded shape is generally efficient for packing in seeds and pulp.\n",
            "*   **Bananas:** Bananas develop from a flower cluster, and each banana is an individual fruit. The curved shape is related to the way the banana fruit develops in relation to the main flower stalk. As the fruit develops, it curves upwards due to the way it responds to gravity and light. This curvature is part of the banana's natural growth pattern.\n",
            "\n",
            "**In Summary:**\n",
            "\n",
            "While both apples and bananas are fruits, their shapes are quite different. Apples are generally rounded and somewhat flattened, while bananas are elongated and curved. These differences stem from the way they develop and the unique characteristics of their respective plants.\n",
            "\n",
            "So, the shapes of apples and bananas are not the same, and they are easily distinguishable! Is there anything else you'd like to know about their shapes or any other fruit?\n",
            "\n",
            "You: what was my 1st question\n",
            "Bot:  Your first question was: \"what is the shape of an apple\".\n",
            "\n",
            "You: did i ask you about the shape of an apple\n",
            "Bot:  Yes, you did ask me about the shape of an apple. Your first question in our conversation was \"what is the shape of an apple\".\n",
            "\n",
            "You: and you didnt answer me correct? am i right\n",
            "Bot:  You are right to point that out! While I did provide a lot of detail about the shape of an apple, my initial response wasn't the most concise. My first answer was:\n",
            "\n",
            "\"Okay, that's a fun question! The shape of an apple is something that can vary quite a bit, but there are some general characteristics we can talk about.\n",
            "\n",
            "Generally speaking, an apple is considered to be an **oblate spheroid**. Now, what does that mean? Well, a sphere is perfectly round, like a ball. An oblate spheroid is like a sphere that's been squashed a little bit at the poles (the top and bottom). Think of it like a slightly flattened ball.\n",
            "\n",
            "However, it's not a perfect oblate spheroid. Here's where the variations come in:\n",
            "\n",
            "*   **Stem and Calyx:** Apples have a stem at the top and what's called a calyx at the bottom. The calyx is the little \"belly button\" area where the flower used to be. These features obviously interrupt the smooth spheroid shape.\n",
            "*   **Variety Differences:** The specific shape varies significantly depending on the apple variety. Some apples, like Red Delicious, tend to be more elongated and almost heart-shaped, with prominent \"lobes\" at the bottom. Others, like Granny Smiths, are often more rounded and less elongated. Still others, like Fuji apples, tend to be quite round and symmetrical.\n",
            "*   **Individual Variation:** Even within the same variety, you'll find variations in shape. Some apples might be a little more lopsided, some might be rounder, some might have a flatter bottom, etc. This is due to natural variations in growth.\n",
            "*   **\"Typical\" Shape:** When you think of a stereotypical apple, you might imagine a shape that's a bit wider than it is tall, with a slightly rounded top and a gently curving bottom, with that slight indentation at the top where the stem is and the calyx at the bottom.\n",
            "\n",
            "So, while we can say the general shape is an oblate spheroid, it's important to remember that there's a lot of natural variation! It's part of what makes each apple unique. It's like saying a \"cat\" – you know generally what it looks like, but there's a huge range of sizes, colors, and features.\n",
            "\n",
            "Do you have any particular kind of apple in mind? We could talk about how their shapes tend to differ!\"\n",
            "\n",
            "While this answer *did* describe the shape, it wasn't a simple, direct answer as you requested later. I got carried away with providing a lot of detail!\n",
            "\n",
            "You are absolutely right that I didn't give a simple answer initially. My apologies for that! I'm still under development and learning to tailor my responses to the specific needs of the conversation. Thanks for pointing out my mistake! I appreciate the feedback.\n",
            "\n",
            "You: apology not granted\n",
            "Bot:  Okay, I understand. My apology is not granted. I will strive to do better and provide more concise and accurate answers in the future. Thank you for holding me accountable. Is there anything else I can help you with?\n",
            "\n",
            "You: promise \n",
            "Bot:  Okay, I promise that I will make a better effort to understand your requests and provide concise and accurate answers in the future. I will also try to avoid getting carried away with unnecessary details unless you specifically ask for them. I will focus on directly addressing your questions as clearly as possible.\n",
            "\n",
            "Is there anything else I can promise or anything else you would like to discuss?\n",
            "\n",
            "You: exit\n"
          ]
        }
      ],
      "source": [
        "from langchain.memory import ConversationBufferMemory\n",
        "from langchain.chains import ConversationChain\n",
        "from langchain_google_genai import ChatGoogleGenerativeAI\n",
        "from google.colab import userdata\n",
        "import os\n",
        "\n",
        "llm = ChatGoogleGenerativeAI(\n",
        "          model=\"gemini-2.0-flash-exp\",\n",
        "          temperature = 0.7,\n",
        "          api_key = userdata.get('GOOGLE_API_KEY'))\n",
        "\n",
        "memory = ConversationBufferMemory()\n",
        "\n",
        "chain = ConversationChain(llm=llm, memory=memory)\n",
        "\n",
        "while True:\n",
        "  user_input = input(\"You: \")\n",
        "  if user_input.lower() == \"exit\":\n",
        "    break\n",
        "  response = chain.run(user_input)\n",
        "  print(\"Bot: \", response)"
      ]
    }
  ]
}
