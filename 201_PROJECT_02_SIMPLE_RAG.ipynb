{
  "nbformat": 4,
  "nbformat_minor": 0,
  "metadata": {
    "colab": {
      "provenance": [],
      "authorship_tag": "ABX9TyMFeFe9/QV1HJnO3lDdxXxh",
      "include_colab_link": true
    },
    "kernelspec": {
      "name": "python3",
      "display_name": "Python 3"
    },
    "language_info": {
      "name": "python"
    }
  },
  "cells": [
    {
      "cell_type": "markdown",
      "metadata": {
        "id": "view-in-github",
        "colab_type": "text"
      },
      "source": [
        "<a href=\"https://colab.research.google.com/github/Arif-Kasim1/PIAIC-201/blob/main/201_PROJECT_02_SIMPLE_RAG.ipynb\" target=\"_parent\"><img src=\"https://colab.research.google.com/assets/colab-badge.svg\" alt=\"Open In Colab\"/></a>"
      ]
    },
    {
      "cell_type": "code",
      "source": [
        "!pip install -Uq langchain_community langchain-google-genai langchain-core"
      ],
      "metadata": {
        "colab": {
          "base_uri": "https://localhost:8080/"
        },
        "id": "AgzOQwMRmLvH",
        "outputId": "127e0915-e50f-4b60-cd96-211829805ce1"
      },
      "execution_count": 1,
      "outputs": [
        {
          "output_type": "stream",
          "name": "stdout",
          "text": [
            "\u001b[?25l   \u001b[90m━━━━━━━━━━━━━━━━━━━━━━━━━━━━━━━━━━━━━━━━\u001b[0m \u001b[32m0.0/2.5 MB\u001b[0m \u001b[31m?\u001b[0m eta \u001b[36m-:--:--\u001b[0m\r\u001b[2K   \u001b[91m━━━━━━━\u001b[0m\u001b[91m╸\u001b[0m\u001b[90m━━━━━━━━━━━━━━━━━━━━━━━━━━━━━━━━\u001b[0m \u001b[32m0.5/2.5 MB\u001b[0m \u001b[31m14.0 MB/s\u001b[0m eta \u001b[36m0:00:01\u001b[0m\r\u001b[2K   \u001b[91m━━━━━━━━━━━━━━━━━━━━━━━━━━━━━━━━━━━━━━━\u001b[0m\u001b[91m╸\u001b[0m \u001b[32m2.5/2.5 MB\u001b[0m \u001b[31m40.7 MB/s\u001b[0m eta \u001b[36m0:00:01\u001b[0m\r\u001b[2K   \u001b[90m━━━━━━━━━━━━━━━━━━━━━━━━━━━━━━━━━━━━━━━━\u001b[0m \u001b[32m2.5/2.5 MB\u001b[0m \u001b[31m28.9 MB/s\u001b[0m eta \u001b[36m0:00:00\u001b[0m\n",
            "\u001b[2K   \u001b[90m━━━━━━━━━━━━━━━━━━━━━━━━━━━━━━━━━━━━━━━━\u001b[0m \u001b[32m41.3/41.3 kB\u001b[0m \u001b[31m2.2 MB/s\u001b[0m eta \u001b[36m0:00:00\u001b[0m\n",
            "\u001b[2K   \u001b[90m━━━━━━━━━━━━━━━━━━━━━━━━━━━━━━━━━━━━━━━━\u001b[0m \u001b[32m411.6/411.6 kB\u001b[0m \u001b[31m20.0 MB/s\u001b[0m eta \u001b[36m0:00:00\u001b[0m\n",
            "\u001b[2K   \u001b[90m━━━━━━━━━━━━━━━━━━━━━━━━━━━━━━━━━━━━━━━━\u001b[0m \u001b[32m1.0/1.0 MB\u001b[0m \u001b[31m37.9 MB/s\u001b[0m eta \u001b[36m0:00:00\u001b[0m\n",
            "\u001b[2K   \u001b[90m━━━━━━━━━━━━━━━━━━━━━━━━━━━━━━━━━━━━━━━━\u001b[0m \u001b[32m49.3/49.3 kB\u001b[0m \u001b[31m2.8 MB/s\u001b[0m eta \u001b[36m0:00:00\u001b[0m\n",
            "\u001b[?25h"
          ]
        }
      ]
    },
    {
      "cell_type": "code",
      "execution_count": 2,
      "metadata": {
        "colab": {
          "base_uri": "https://localhost:8080/"
        },
        "id": "nGViZjwclwsn",
        "outputId": "89799ee3-c82b-40bd-a8a8-f3c591cec26c"
      },
      "outputs": [
        {
          "output_type": "stream",
          "name": "stdout",
          "text": [
            "[Document(metadata={'source': '/content/Data.txt'}, page_content='Title: The Rise of Quantum Computing\\nArticle: Quantum computing represents a fundamental shift in how we process information. Unlike classical computers that use bits (0s and 1s), quantum computers leverage quantum bits or qubits. These qubits can exist in multiple states simultaneously through a phenomenon called superposition. This property, along with quantum entanglement, allows quantum computers to solve certain problems exponentially faster than classical computers. Major tech companies like IBM, Google, and Microsoft are investing heavily in quantum research, though practical quantum computers are still years away from widespread use.\\n\\nTitle: Understanding Neural Networks\\nArticle: Neural networks are computing systems inspired by biological neural networks in animal brains. These systems \"learn\" to perform tasks by analyzing training examples, generally without task-specific programming. For instance, in image recognition, they might learn to identify images containing cats by analyzing example images labeled as \"cat\" or \"no cat.\" The network builds its understanding through layers of interconnected nodes, each layer transforming the input data in increasingly complex ways. Deep learning, which involves neural networks with many layers, has revolutionized fields like computer vision and natural language processing.\\n\\nTitle: The Evolution of Cloud Computing\\nArticle: Cloud computing has transformed how businesses operate in the digital age. Instead of maintaining physical servers, companies can now rent computing resources on-demand. This model offers several advantages: scalability, cost-effectiveness, and reduced maintenance overhead. The three main service models are Infrastructure as a Service (IaaS), Platform as a Service (PaaS), and Software as a Service (SaaS). Major providers like AWS, Microsoft Azure, and Google Cloud Platform compete to offer increasingly sophisticated services, from basic storage to advanced AI capabilities.\\n\\nTitle: Blockchain Beyond Cryptocurrency\\nArticle: While blockchain technology gained fame through Bitcoin, its applications extend far beyond cryptocurrency. At its core, blockchain is a distributed ledger technology that ensures transparency and immutability of records. Industries are exploring blockchain for supply chain management, voting systems, and digital identity verification. Smart contracts, self-executing contracts with terms directly written into code, are particularly promising. They can automate complex transactions without intermediaries, potentially revolutionizing industries from real estate to insurance.\\n\\nTitle: The Promise of 5G Networks\\nArticle: 5G represents the fifth generation of mobile network technology, promising speeds up to 100 times faster than 4G. Beyond faster downloads, 5G\\'s low latency and high reliability enable new applications like autonomous vehicles, remote surgery, and industrial automation. The technology uses higher frequency radio waves and smaller cells to achieve these improvements. However, this requires more infrastructure investment and faces challenges like limited range and building penetration. Despite these hurdles, 5G is expected to enable transformative applications in healthcare, manufacturing, and smart cities.\\n\\n295G is nothing, we are makin this unique text just to check RAG implementation.')]\n",
            "<langchain_community.document_loaders.text.TextLoader object at 0x7dfe80d6d0f0>\n"
          ]
        },
        {
          "output_type": "stream",
          "name": "stderr",
          "text": [
            "/usr/local/lib/python3.10/dist-packages/langchain/indexes/vectorstore.py:128: UserWarning: Using InMemoryVectorStore as the default vectorstore.This memory store won't persist data. You should explicitlyspecify a vectorstore when using VectorstoreIndexCreator\n",
            "  warnings.warn(\n"
          ]
        },
        {
          "name": "stdout",
          "output_type": "stream",
          "text": [
            "How can I help you? what is 5G?\n",
            "5G is the fifth generation of mobile network technology.  It promises speeds up to 100 times faster than 4G, and its low latency and high reliability enable new applications like autonomous vehicles, remote surgery, and industrial automation.  It uses higher frequency radio waves and smaller cells, but this requires more infrastructure investment and faces challenges like limited range and building penetration.\n",
            "\n",
            "How can I help you? blockchain\n",
            "Blockchain is a distributed ledger technology that ensures transparency and immutability of records.  Its applications extend beyond cryptocurrency to areas such as supply chain management, voting systems, and digital identity verification.  Smart contracts, self-executing contracts written into code, are a particularly promising application, automating complex transactions without intermediaries.\n",
            "\n",
            "How can I help you? 295G\n",
            "I don't know.\n",
            "\n",
            "How can I help you? what 5G promise\n",
            "5G promises speeds up to 100 times faster than 4G, low latency, and high reliability, enabling applications like autonomous vehicles, remote surgery, and industrial automation.\n",
            "\n",
            "How can I help you? best place to eat biryani in karachi\n",
            "I don't know.\n",
            "\n",
            "How can I help you? exit\n"
          ]
        }
      ],
      "source": [
        "from re import M\n",
        "from langchain_community.document_loaders import TextLoader\n",
        "from langchain.indexes import VectorstoreIndexCreator\n",
        "from langchain.text_splitter import CharacterTextSplitter\n",
        "from langchain_google_genai import GoogleGenerativeAI, GoogleGenerativeAIEmbeddings\n",
        "from google.colab import userdata\n",
        "\n",
        "\n",
        "llm = GoogleGenerativeAI(model=\"gemini-1.5-flash\",\n",
        "                         google_api_key=userdata.get(\"GOOGLE_API_KEY\"))\n",
        "loader = None\n",
        "try:\n",
        "  loader = TextLoader('/content/Data.txt')\n",
        "except Exception as e:\n",
        "  print(e)\n",
        "\n",
        "document = loader.load()\n",
        "print(document)\n",
        "print(loader)\n",
        "\n",
        "embading = GoogleGenerativeAIEmbeddings(model=\"models/embedding-001\",\n",
        "                                        google_api_key=userdata.get(\"GOOGLE_API_KEY\"))\n",
        "\n",
        "# use smaller chunk size to manage tocken limits\n",
        "text_splitter = CharacterTextSplitter(chunk_size=1000, chunk_overlap=100)\n",
        "index_creator = VectorstoreIndexCreator(\n",
        "              embedding=embading,\n",
        "              text_splitter=text_splitter)\n",
        "# index = index_creator.from_loaders([loader])\n",
        "index = index_creator.from_documents(document)\n",
        "\n",
        "while True:\n",
        "  human_query = input(\"How can I help you? \")\n",
        "  if human_query == \"exit\":\n",
        "    break\n",
        "  response = index.query(human_query, llm=llm )\n",
        "  print(response)\n",
        "\n",
        "\n",
        "# response = index.query(\"what is 295g? and what is Karachi\", llm=llm )\n",
        "# print(response)\n",
        "# response = index.query(\"how many titles are there? name them please\", llm=llm )\n",
        "# print(response)\n",
        "\n"
      ]
    },
    {
      "cell_type": "markdown",
      "source": [
        "******* Please first upload this file 'Data.txt' *******\n",
        "\n",
        "Title: The Rise of Quantum Computing\n",
        "Article: Quantum computing represents a fundamental shift in how we process information. Unlike classical computers that use bits (0s and 1s), quantum computers leverage quantum bits or qubits. These qubits can exist in multiple states simultaneously through a phenomenon called superposition. This property, along with quantum entanglement, allows quantum computers to solve certain problems exponentially faster than classical computers. Major tech companies like IBM, Google, and Microsoft are investing heavily in quantum research, though practical quantum computers are still years away from widespread use.\n",
        "\n",
        "Title: Understanding Neural Networks\n",
        "Article: Neural networks are computing systems inspired by biological neural networks in animal brains. These systems \"learn\" to perform tasks by analyzing training examples, generally without task-specific programming. For instance, in image recognition, they might learn to identify images containing cats by analyzing example images labeled as \"cat\" or \"no cat.\" The network builds its understanding through layers of interconnected nodes, each layer transforming the input data in increasingly complex ways. Deep learning, which involves neural networks with many layers, has revolutionized fields like computer vision and natural language processing.\n",
        "\n",
        "Title: The Evolution of Cloud Computing\n",
        "Article: Cloud computing has transformed how businesses operate in the digital age. Instead of maintaining physical servers, companies can now rent computing resources on-demand. This model offers several advantages: scalability, cost-effectiveness, and reduced maintenance overhead. The three main service models are Infrastructure as a Service (IaaS), Platform as a Service (PaaS), and Software as a Service (SaaS). Major providers like AWS, Microsoft Azure, and Google Cloud Platform compete to offer increasingly sophisticated services, from basic storage to advanced AI capabilities.\n",
        "\n",
        "Title: Blockchain Beyond Cryptocurrency\n",
        "Article: While blockchain technology gained fame through Bitcoin, its applications extend far beyond cryptocurrency. At its core, blockchain is a distributed ledger technology that ensures transparency and immutability of records. Industries are exploring blockchain for supply chain management, voting systems, and digital identity verification. Smart contracts, self-executing contracts with terms directly written into code, are particularly promising. They can automate complex transactions without intermediaries, potentially revolutionizing industries from real estate to insurance.\n",
        "\n",
        "Title: The Promise of 5G Networks\n",
        "Article: 5G represents the fifth generation of mobile network technology, promising speeds up to 100 times faster than 4G. Beyond faster downloads, 5G's low latency and high reliability enable new applications like autonomous vehicles, remote surgery, and industrial automation. The technology uses higher frequency radio waves and smaller cells to achieve these improvements. However, this requires more infrastructure investment and faces challenges like limited range and building penetration. Despite these hurdles, 5G is expected to enable transformative applications in healthcare, manufacturing, and smart cities.\n"
      ],
      "metadata": {
        "id": "BX7N7EPSghKy"
      }
    }
  ]
}